{
 "cells": [
  {
   "cell_type": "markdown",
   "id": "683ec620-f8ec-4e5a-a8b4-12709891382b",
   "metadata": {},
   "source": [
    "Q1. Create a python program to sort the given list of tuples based on integer value using a\n",
    "lambda function.\n",
    "[('Sachin Tendulkar', 34357), ('Ricky Ponting', 27483), ('Jack Kallis', 25534), ('Virat Kohli', 24936)]"
   ]
  },
  {
   "cell_type": "code",
   "execution_count": 1,
   "id": "6648f2c1-49de-4d13-9020-189da9314fb9",
   "metadata": {},
   "outputs": [
    {
     "name": "stdout",
     "output_type": "stream",
     "text": [
      "[('Virat Kohli', 24936), ('Jack Kallis', 25534), ('Ricky Ponting', 27483), ('Sachin Tendulkar', 34357)]\n"
     ]
    }
   ],
   "source": [
    "### A1. Python Program to sort tuples\n",
    "old_list = [('Sachin Tendulkar', 34357), ('Ricky Ponting', 27483), ('Jack Kallis', 25534), ('Virat Kohli', 24936)]\n",
    "\n",
    "new_list = sorted(old_list,key = lambda x  : x[1])\n",
    "print(new_list)"
   ]
  },
  {
   "cell_type": "markdown",
   "id": "a99dbbab-22b8-4dfb-b729-8d20f18cc725",
   "metadata": {},
   "source": [
    "Q2. Write a Python Program to find the squares of all the numbers in the given list of integers using\n",
    "lambda and map functions.\n",
    "[1, 2, 3, 4, 5, 6, 7, 8, 9, 10]"
   ]
  },
  {
   "cell_type": "code",
   "execution_count": 2,
   "id": "206e42ca-bbc5-4feb-845d-7422679eff6a",
   "metadata": {},
   "outputs": [
    {
     "name": "stdout",
     "output_type": "stream",
     "text": [
      "[1, 4, 9, 16, 25, 36, 49, 64, 81, 100]\n"
     ]
    }
   ],
   "source": [
    "### A2.Program to find the squares of all the numbers in the given list of integers using lambda and map functions.\n",
    "\n",
    "num_list= [1, 2, 3, 4, 5, 6, 7, 8, 9, 10]\n",
    "sqr = map(lambda x: x**2,num_list)\n",
    "print(list(sqr))"
   ]
  },
  {
   "cell_type": "markdown",
   "id": "bc4c92e7-f873-47d5-8be3-e8fc02362e1e",
   "metadata": {},
   "source": [
    "Q3. Write a python program to convert the given list of integers into a tuple of strings. Use map and lambda functions\n",
    "Given String: [1, 2, 3, 4, 5, 6, 7, 8, 9, 10]\n",
    "Expected output: ('1', '2', '3', '4', '5', '6', '7', '8', '9', '10')\n",
    "\n"
   ]
  },
  {
   "cell_type": "code",
   "execution_count": 3,
   "id": "e3a5902e-575c-49eb-b7f9-9cb15a0c9dd4",
   "metadata": {},
   "outputs": [
    {
     "name": "stdout",
     "output_type": "stream",
     "text": [
      "('1', '2', '3', '4', '5', '6', '7', '8', '9', '10')\n"
     ]
    }
   ],
   "source": [
    "### A3. Write a python program to convert the given list of integers into a tuple of strings\n",
    "\n",
    "Num_Str=[1,2,3,4,5,6,7,8,9,10]\n",
    "tup = tuple(map(str,Num_Str))\n",
    "tup = tuple(map(lambda x: str(x),Num_Str))\n",
    "print(tup)"
   ]
  },
  {
   "cell_type": "markdown",
   "id": "b1952777-6874-4c83-bb89-f49f965ba209",
   "metadata": {},
   "source": [
    "Q4. Write a python program using reduce function to compute the product of a list containing numbers\n",
    "from 1 to 25."
   ]
  },
  {
   "cell_type": "code",
   "execution_count": 4,
   "id": "31c2b6ce-9396-4cc7-8c2a-cd2135860e78",
   "metadata": {},
   "outputs": [
    {
     "name": "stdout",
     "output_type": "stream",
     "text": [
      "15511210043330985984000000\n"
     ]
    }
   ],
   "source": [
    "###Q4. Write a python program using reduce function to compute the product of a list containing numbers from 1 to 25.\n",
    "\n",
    "import functools\n",
    "\n",
    "num = list(range(1,26))\n",
    "\n",
    "print(functools.reduce(lambda a,b: a*b, num))"
   ]
  },
  {
   "cell_type": "markdown",
   "id": "095235c3-bfbc-4129-8a04-9d9e46c18750",
   "metadata": {},
   "source": [
    "Q5. Write a python program to filter the numbers in a given list that are divisible by 2 and 3 using the\n",
    "filter function.\n",
    "[2, 3, 6, 9, 27, 60, 90, 120, 55, 46]"
   ]
  },
  {
   "cell_type": "code",
   "execution_count": 5,
   "id": "fdf65230-c867-4e76-9797-612df6d4918f",
   "metadata": {},
   "outputs": [
    {
     "name": "stdout",
     "output_type": "stream",
     "text": [
      "6\n",
      "60\n",
      "90\n",
      "120\n"
     ]
    }
   ],
   "source": [
    "###A5  Write a python program to filter the numbers in a given list that are divisible by 2 and 3 using the filter function.\n",
    "\n",
    "num_list = [2, 3, 6, 9, 27, 60, 90, 120, 55, 46]\n",
    "\n",
    "def div(x):\n",
    "    if(x%3 == 0 | x%2==0):\n",
    "        return True;\n",
    "    else:\n",
    "        return False;\n",
    "    \n",
    "result = filter(div,num_list)\n",
    "\n",
    "for num in result:\n",
    "    print(num)"
   ]
  },
  {
   "cell_type": "markdown",
   "id": "6c7f1423-fef9-4f06-afd0-325a9cb04c8c",
   "metadata": {},
   "source": [
    "Q6. Write a python program to find palindromes in the given list of strings using lambda and filter\n",
    "function.\n",
    "['python', 'php', 'aba', 'radar', 'level']"
   ]
  },
  {
   "cell_type": "code",
   "execution_count": 6,
   "id": "fa56600b-a114-4c70-b67e-3eb055578595",
   "metadata": {},
   "outputs": [
    {
     "name": "stdout",
     "output_type": "stream",
     "text": [
      "python is not a palindrome\n",
      "php is a palindrome\n",
      "aba is a palindrome\n",
      "radar is a palindrome\n",
      "level is a palindrome\n"
     ]
    }
   ],
   "source": [
    "str_lst = ['python', 'php', 'aba', 'radar', 'level']\n",
    "\n",
    "palin_list = map(lambda x: x + \" is a palindrome\" if(x == x[::-1]) else x + \" is not a palindrome\",str_lst)\n",
    "\n",
    "for st in palin_list:\n",
    "    print(st)"
   ]
  },
  {
   "cell_type": "code",
   "execution_count": null,
   "id": "03faf6de-2b52-4c63-9eea-1a255db8dfa3",
   "metadata": {},
   "outputs": [],
   "source": []
  }
 ],
 "metadata": {
  "kernelspec": {
   "display_name": "Python 3 (ipykernel)",
   "language": "python",
   "name": "python3"
  },
  "language_info": {
   "codemirror_mode": {
    "name": "ipython",
    "version": 3
   },
   "file_extension": ".py",
   "mimetype": "text/x-python",
   "name": "python",
   "nbconvert_exporter": "python",
   "pygments_lexer": "ipython3",
   "version": "3.10.8"
  }
 },
 "nbformat": 4,
 "nbformat_minor": 5
}
