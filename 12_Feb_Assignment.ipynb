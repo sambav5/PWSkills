{
 "cells": [
  {
   "cell_type": "markdown",
   "id": "a34ba737-23aa-410c-b690-aa6b1da56584",
   "metadata": {},
   "source": [
    "## Q1. What is an Exception in python? Write the difference between Exceptions and Syntax errors\n",
    "\n",
    "Exception is an issue which happens while execution of the program and causes the program to stop abruptly\n",
    "\n",
    "Syntax errors during parsing time which is nothing but error in the syntax of the program and Exception occurs during runtime.\n",
    "\n",
    "ex) Adding extra ')' to a print statement is Syntax error\n",
    "Reading a file which doesnot exist raises exception during though code is not having any syntax error."
   ]
  },
  {
   "cell_type": "code",
   "execution_count": 3,
   "id": "4bc4ac3f-4ce2-4a9e-b681-394e8784637a",
   "metadata": {},
   "outputs": [
    {
     "name": "stdout",
     "output_type": "stream",
     "text": [
      "Program starts\n"
     ]
    },
    {
     "ename": "ZeroDivisionError",
     "evalue": "division by zero",
     "output_type": "error",
     "traceback": [
      "\u001b[0;31m---------------------------------------------------------------------------\u001b[0m",
      "\u001b[0;31mZeroDivisionError\u001b[0m                         Traceback (most recent call last)",
      "Cell \u001b[0;32mIn[3], line 10\u001b[0m\n\u001b[1;32m      7\u001b[0m a \u001b[38;5;241m=\u001b[39m \u001b[38;5;241m10\u001b[39m;\n\u001b[1;32m      9\u001b[0m \u001b[38;5;28mprint\u001b[39m(\u001b[38;5;124m\"\u001b[39m\u001b[38;5;124mProgram starts\u001b[39m\u001b[38;5;124m\"\u001b[39m)\n\u001b[0;32m---> 10\u001b[0m \u001b[38;5;28mprint\u001b[39m(\u001b[38;5;124m\"\u001b[39m\u001b[38;5;124mAnswer is \u001b[39m\u001b[38;5;124m\"\u001b[39m,\u001b[43ma\u001b[49m\u001b[38;5;241;43m/\u001b[39;49m\u001b[38;5;241;43m0\u001b[39;49m)\n\u001b[1;32m     11\u001b[0m \u001b[38;5;28mprint\u001b[39m(\u001b[38;5;124m\"\u001b[39m\u001b[38;5;124mProgram ends\u001b[39m\u001b[38;5;124m\"\u001b[39m)\n",
      "\u001b[0;31mZeroDivisionError\u001b[0m: division by zero"
     ]
    }
   ],
   "source": [
    "## Q2. What happens when an exception is not handled? Explain with an example\n",
    "\n",
    "## A2. When exception is not handled, program stops exection abruptly.\n",
    "\n",
    "## Example below where program ends is not getting executed as zerodivision error exception has been raised before that\n",
    "\n",
    "a = 10;\n",
    "\n",
    "print(\"Program starts\")\n",
    "print(\"Answer is \",a/0)\n",
    "print(\"Program ends\")\n",
    "\n"
   ]
  },
  {
   "cell_type": "code",
   "execution_count": 12,
   "id": "8094d005-7c9b-40ee-b35c-41c2e751b667",
   "metadata": {},
   "outputs": [
    {
     "name": "stdout",
     "output_type": "stream",
     "text": [
      "Program stopped because of division by zero\n"
     ]
    }
   ],
   "source": [
    "## Q3. Which Python statements are used to catch and handle exceptions? Explain with an example\n",
    "\n",
    "## A3. except statement is used to catch and handle exception\n",
    "## Example below where zero division error is catched and handled in except block\n",
    "\n",
    "try:\n",
    "    a=10\n",
    "    b=0\n",
    "    c=a/b\n",
    "except Exception as e:\n",
    "    print(\"Program stopped because of\",e)\n",
    "    "
   ]
  },
  {
   "cell_type": "code",
   "execution_count": 21,
   "id": "4efcbe5b-3085-4c10-ba08-ffc68d38fa78",
   "metadata": {},
   "outputs": [
    {
     "name": "stdout",
     "output_type": "stream",
     "text": [
      "Input is  3 2\n",
      "Yeah ! Your answer is : 1\n",
      "Input is  3 0\n",
      "Sorry ! You are dividing by zero \n"
     ]
    }
   ],
   "source": [
    "## Q4. Explain with an example:\n",
    "    \n",
    "## 1)  try and else\n",
    "## 2) finally\n",
    "## 3) raise\n",
    "\n",
    "## A4\n",
    "\n",
    "## 1) Try and else : Try will run the code and checks for exception. \n",
    "## if there is exception, except block will get executed. if not, else block will get executed\n",
    "\n",
    "\n",
    "def divide(x, y):\n",
    "    try:\n",
    "        print(\"Input is \",x,y)\n",
    "        result = x // y\n",
    "    except ZeroDivisionError:\n",
    "        print(\"Sorry ! You are dividing by zero \")\n",
    "    else:\n",
    "        print(\"Yeah ! Your answer is :\", result)\n",
    "\n",
    "\n",
    "divide(3, 2)  ## try and else block gets executed\n",
    "divide(3, 0)  ## try and Except block gets executed\n",
    "\n",
    "  "
   ]
  },
  {
   "cell_type": "code",
   "execution_count": 23,
   "id": "1694fb0d-ea22-4606-ac7d-9095dc13a5c2",
   "metadata": {},
   "outputs": [
    {
     "name": "stdout",
     "output_type": "stream",
     "text": [
      "Input is  3 2\n",
      "Yeah ! Your answer is : 1\n",
      "Executed always\n",
      "Input is  3 0\n",
      "Sorry ! You are dividing by zero \n",
      "Executed always\n"
     ]
    }
   ],
   "source": [
    "## 2) finally : Irrespective of try block having exception or not finally will get executed\n",
    "\n",
    "def divide(x, y):\n",
    "    try:\n",
    "        print(\"Input is \",x,y)\n",
    "        result = x // y\n",
    "    except ZeroDivisionError:\n",
    "        print(\"Sorry ! You are dividing by zero \")\n",
    "    else:\n",
    "        print(\"Yeah ! Your answer is :\", result)\n",
    "    finally:\n",
    "        print(\"Executed always\")\n",
    "\n",
    "divide(3, 2)  ## try and else block gets executed and then finally block\n",
    "divide(3, 0)  ## try and Except block gets executed and then finally block\n"
   ]
  },
  {
   "cell_type": "code",
   "execution_count": 2,
   "id": "14b5ca69-7cfa-44f0-acef-dff95b952b2d",
   "metadata": {},
   "outputs": [
    {
     "name": "stdin",
     "output_type": "stream",
     "text": [
      "Enter a message to display 123\n"
     ]
    },
    {
     "ename": "Exception",
     "evalue": "Only alphabets are allowed",
     "output_type": "error",
     "traceback": [
      "\u001b[0;31m---------------------------------------------------------------------------\u001b[0m",
      "\u001b[0;31mException\u001b[0m                                 Traceback (most recent call last)",
      "Cell \u001b[0;32mIn[2], line 7\u001b[0m\n\u001b[1;32m      5\u001b[0m \u001b[38;5;28;01mfor\u001b[39;00m ch \u001b[38;5;129;01min\u001b[39;00m a:\n\u001b[1;32m      6\u001b[0m     \u001b[38;5;28;01mif\u001b[39;00m \u001b[38;5;28mtype\u001b[39m(\u001b[38;5;28mint\u001b[39m(ch)) \u001b[38;5;241m!=\u001b[39m \u001b[38;5;28mstr\u001b[39m:\n\u001b[0;32m----> 7\u001b[0m         \u001b[38;5;28;01mraise\u001b[39;00m \u001b[38;5;167;01mException\u001b[39;00m(\u001b[38;5;124m\"\u001b[39m\u001b[38;5;124mOnly alphabets are allowed\u001b[39m\u001b[38;5;124m\"\u001b[39m)\n",
      "\u001b[0;31mException\u001b[0m: Only alphabets are allowed"
     ]
    }
   ],
   "source": [
    "## 3) raise : Raise keyword is used to raise custom exceptions\n",
    "\n",
    "\n",
    "a = input(\"Enter a message to display\")\n",
    "for ch in a:\n",
    "    if type(int(ch)) != str:\n",
    "        raise Exception(\"Only alphabets are allowed\")\n",
    "        \n",
    "    "
   ]
  },
  {
   "cell_type": "code",
   "execution_count": 8,
   "id": "aa1b09b3-95d6-4a13-8d3d-bdef98befb83",
   "metadata": {},
   "outputs": [
    {
     "name": "stdin",
     "output_type": "stream",
     "text": [
      "Enter your age 101\n"
     ]
    },
    {
     "name": "stdout",
     "output_type": "stream",
     "text": [
      "Invalid Age exception\n"
     ]
    }
   ],
   "source": [
    "## Q5. What are Custom Exceptions in python? Why do we need Custom Exceptions? Explain with an example\n",
    "\n",
    "## A5. Custom exceptions are exceptions which are raised and handled by us instead of python classes. \n",
    "## Though code doesnot have any error, we might need to raise exception based on logic\n",
    "\n",
    "## Example\n",
    "\n",
    "class InvalidAge(Exception):\n",
    "    \"Raised when Age is invalid\"\n",
    "    \n",
    "\n",
    "try:\n",
    "    age = input(\"Enter your age\")\n",
    "    if (int(age) < 0 or int(age) > 100):\n",
    "        raise InvalidAge\n",
    "    else:\n",
    "        print(\"Age is valid\")\n",
    "    \n",
    "except InvalidAge:\n",
    "    print(\"Invalid Age exception\")\n",
    "        \n",
    "        \n",
    "\n"
   ]
  },
  {
   "cell_type": "code",
   "execution_count": 28,
   "id": "ca0925e3-48d6-4fa7-ae26-e6003cf834cc",
   "metadata": {},
   "outputs": [],
   "source": [
    "## Q6. Create custom exception class. Use this class to handle an exception.\n",
    "\n",
    "## Custom class\n",
    "class InvalidAge(Exception):\n",
    "    def __init__(self,msg):\n",
    "        self.msg = msg\n",
    "        print(\"Exception\",msg)\n",
    "    def checkAge():\n",
    "        age = input(\"Enter age\")\n",
    "        if ( int(age) > 100):\n",
    "            raise InvalidAge(\"Age is more than 100\")\n",
    "        elif (int(age) < 1):\n",
    "            raise InvalidAge(\"Age is less than 0\")\n",
    "        else:\n",
    "            print(\"Age is valid\")\n",
    "            \n",
    "\n",
    "\n",
    "\n",
    "    \n",
    "    \n",
    "\n"
   ]
  },
  {
   "cell_type": "code",
   "execution_count": 29,
   "id": "9fbc3c2d-399d-41df-875f-7cc0e3eb19b2",
   "metadata": {},
   "outputs": [
    {
     "name": "stdin",
     "output_type": "stream",
     "text": [
      "Enter age 0\n"
     ]
    },
    {
     "name": "stdout",
     "output_type": "stream",
     "text": [
      "Exception Age is less than 0\n"
     ]
    }
   ],
   "source": [
    "try:\n",
    "    InvalidAge.checkAge()\n",
    "except InvalidAge as e:\n",
    "    e"
   ]
  },
  {
   "cell_type": "code",
   "execution_count": null,
   "id": "0d23f52e-b135-4b76-b86a-be58b760bd3f",
   "metadata": {},
   "outputs": [],
   "source": []
  }
 ],
 "metadata": {
  "kernelspec": {
   "display_name": "Python 3 (ipykernel)",
   "language": "python",
   "name": "python3"
  },
  "language_info": {
   "codemirror_mode": {
    "name": "ipython",
    "version": 3
   },
   "file_extension": ".py",
   "mimetype": "text/x-python",
   "name": "python",
   "nbconvert_exporter": "python",
   "pygments_lexer": "ipython3",
   "version": "3.10.8"
  }
 },
 "nbformat": 4,
 "nbformat_minor": 5
}
