{
 "cells": [
  {
   "cell_type": "markdown",
   "id": "0d1937b7-bd06-4711-9989-fa225820d9c3",
   "metadata": {},
   "source": [
    "Q1. Who developed python?\n",
    "Guido van Rossum \n",
    "\n",
    "Q2. Which type of programming pyhthon support?\n",
    "oops\n",
    "\n",
    "Q3. Is python case sensitive while dealing with identifiers?\n",
    "Yes.\n",
    "\n",
    "Q4. Extension of python file? .py\n",
    "\n",
    "Q5. Python code is interpreted or compiled? Interpreted\n",
    "\n",
    "Q6. Few blocks of code used to define in python language?  Module, function body and class definition.\n",
    "\n",
    "Q7. Single line comment in python? #(Hash)\n",
    "\n",
    "Q8. Function to find version of python? .python_version()\n",
    "\n",
    "Q9. Anonymns function used to create at run time using constructor? lambda\n",
    "\n",
    "Q10. what does pip stand for? Preferred installer program is package manager in python\n",
    "\n",
    "Q11. Mention few built-in function? len(), abs(), float(), str() etc.\n",
    "\n",
    "Q12. Max length of a identifier? 79 characters\n",
    "\n",
    "Q13. Benefits of python? portablity, light weight, larger community\n",
    "\n",
    "Q14. How is memory managed in python? Dynamic memory allocation using heap data structure.\n",
    "\n",
    "Q15. How to install python on windows and set environment variables? Download python exe from python websiet and set environment variables using path command.\n",
    "\n",
    "Q16. Is indentation required in python? yes."
   ]
  },
  {
   "cell_type": "code",
   "execution_count": null,
   "id": "423613ec-3b3c-423b-acc0-d271872503f6",
   "metadata": {},
   "outputs": [],
   "source": []
  },
  {
   "cell_type": "code",
   "execution_count": null,
   "id": "72f45747-c48a-477d-8712-8cf1039a4c20",
   "metadata": {},
   "outputs": [],
   "source": []
  }
 ],
 "metadata": {
  "kernelspec": {
   "display_name": "Python 3 (ipykernel)",
   "language": "python",
   "name": "python3"
  },
  "language_info": {
   "codemirror_mode": {
    "name": "ipython",
    "version": 3
   },
   "file_extension": ".py",
   "mimetype": "text/x-python",
   "name": "python",
   "nbconvert_exporter": "python",
   "pygments_lexer": "ipython3",
   "version": "3.10.8"
  }
 },
 "nbformat": 4,
 "nbformat_minor": 5
}
