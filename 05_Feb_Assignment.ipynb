{
 "cells": [
  {
   "cell_type": "markdown",
   "id": "c34bacfd-2e16-454f-8cdc-2b93f0fd4868",
   "metadata": {},
   "source": [
    "Q1. Explain Class and Object with respect to Object-Oriented Programming. Give a suitable example."
   ]
  },
  {
   "cell_type": "markdown",
   "id": "376cb464-2b82-4222-867f-26ef7ce81af2",
   "metadata": {},
   "source": [
    "## A1.Explain Class and Object with respect to Object-Oriented Programming. Give a suitable example.\n",
    "\n",
    "class: A class is an entity which defines how an object will look (paramters) and behave (functions). Ex) Car is a class which defines that it should have 4 wheels and it\n",
    "can be to drive, brake etc.\n",
    "\n",
    "object : An object is a instance of class where it uses the class to create a phyiscal entity. ex) BMW, jauqar are object of the class which has 4 wheels as defined in class and can be used to drive etc."
   ]
  },
  {
   "cell_type": "markdown",
   "id": "dcb52e94-c575-4208-9529-9d1b69ac4538",
   "metadata": {},
   "source": [
    " Q2. Name the four pillars of OOPs."
   ]
  },
  {
   "cell_type": "markdown",
   "id": "9678f558-d9ca-41fd-b264-012c7d68e86a",
   "metadata": {},
   "source": [
    "A2. Inheritance, Polymorphism, Encapsulation and Abstraction."
   ]
  },
  {
   "cell_type": "markdown",
   "id": "f82d5cec-8f51-4fab-9398-bb1481b28c10",
   "metadata": {},
   "source": [
    " Q3. Explain why the __init__() function is used. Give a suitable example."
   ]
  },
  {
   "cell_type": "code",
   "execution_count": 1,
   "id": "0fbfb57c-e2fa-4134-b96a-91b1dac19468",
   "metadata": {},
   "outputs": [
    {
     "name": "stdout",
     "output_type": "stream",
     "text": [
      "John\n",
      "36\n"
     ]
    }
   ],
   "source": [
    "## A3. __init() is a reserved method (initializer) in python. This method is called when an object is created from a class and it allows the class to initialize the attributes of the class\n",
    "\n",
    "## example \n",
    "\n",
    "class Person:\n",
    "  def __init__(self, name, age):\n",
    "    self.name = name\n",
    "    self.age = age\n",
    "\n",
    "p1 = Person(\"John\", 36)\n",
    "\n",
    "print(p1.name)\n",
    "print(p1.age)\n",
    "\n"
   ]
  },
  {
   "cell_type": "markdown",
   "id": "b5c7efd6-d70e-4a39-9832-e43477a8aa82",
   "metadata": {},
   "source": [
    "Q4. Why self is used in OOPs?"
   ]
  },
  {
   "cell_type": "markdown",
   "id": "4818accf-e6c4-4174-ba4e-0f5b86455895",
   "metadata": {},
   "source": [
    "A4. self represents the instance of the class. By using the “self”  we can access the attributes and methods of the class in python. It binds the attributes with the given arguments."
   ]
  },
  {
   "cell_type": "markdown",
   "id": "078da95a-c388-47c7-9d7f-c8a3ed62ea38",
   "metadata": {},
   "source": [
    "Q5. What is inheritance? Give an example for each type of inheritance."
   ]
  },
  {
   "cell_type": "code",
   "execution_count": 7,
   "id": "9dbd5367-de7e-4c2c-96c2-1816bb046b89",
   "metadata": {},
   "outputs": [],
   "source": [
    "## A5.   Inheritance is the capability of one class to derive or inherit the properties from another class.\n",
    "\n",
    "##5 types of Inheritance are\n",
    "\n",
    "\n",
    "\n"
   ]
  },
  {
   "cell_type": "code",
   "execution_count": 8,
   "id": "beafb3f5-c4e5-4c61-8487-b137097e7f1b",
   "metadata": {},
   "outputs": [
    {
     "name": "stdout",
     "output_type": "stream",
     "text": [
      "Single Inheritance and In Parent class\n",
      "Sambav 103\n",
      "Emp class called\n"
     ]
    }
   ],
   "source": [
    "##1) Single inheritance  - child class inherits from only one parent class\n",
    "\n",
    "# Parent class\n",
    "\n",
    "class Person(object):\n",
    "\n",
    "# Constructor\n",
    " def __init__(self, name, id):\n",
    "        self.name = name\n",
    "        self.id = id\n",
    "\n",
    "# To check if this person is an employee\n",
    " def Display(self):\n",
    "        print(\"Single Inheritance and In Parent class\")\n",
    "        print(self.name, self.id)\n",
    "\n",
    "\n",
    "\n",
    "## Child class\n",
    "class Emp(Person):\n",
    "    \n",
    "    def Print(self):\n",
    "        print(\"Emp class called\")\n",
    "\t\n",
    "Emp_details = Emp(\"Sambav\", 103)\n",
    "\n",
    "# calling parent class function using child class object\n",
    "Emp_details.Display()\n",
    "\n",
    "# Calling child class function\n",
    "## Here Child function is calling Parent function.\n",
    "Emp_details.Print()\n"
   ]
  },
  {
   "cell_type": "code",
   "execution_count": 1,
   "id": "59cef385-5709-49f8-be65-29652230b0e0",
   "metadata": {},
   "outputs": [
    {
     "name": "stdout",
     "output_type": "stream",
     "text": [
      "Base1\n",
      "Base2\n",
      "Derived\n",
      "Parent 1 Parent 2\n"
     ]
    }
   ],
   "source": [
    "##2) Multiple inheritance - child class inherits from multiple parent classes, it is called multiple inheritances. \n",
    "\n",
    "\n",
    "class Base1(object):\n",
    "\tdef __init__(self):\n",
    "\t\tself.str1 = \"Parent 1\"\n",
    "\t\tprint(\"Base1\")\n",
    "\n",
    "\n",
    "class Base2(object):\n",
    "\tdef __init__(self):\n",
    "\t\tself.str2 = \"Parent 2\"\n",
    "\t\tprint(\"Base2\")\n",
    "\n",
    "\n",
    "class Derived(Base1, Base2):\n",
    "\tdef __init__(self):\n",
    "\n",
    "\t\t# Calling constructors of Base1\n",
    "\t\t# and Base2 classes\n",
    "\t\tBase1.__init__(self)\n",
    "\t\tBase2.__init__(self)\n",
    "\t\tprint(\"Derived\")\n",
    "\n",
    "\tdef printStrs(self):\n",
    "\t\tprint(self.str1, self.str2)\n",
    "\n",
    "\n",
    "ob = Derived()\n",
    "ob.printStrs()"
   ]
  },
  {
   "cell_type": "code",
   "execution_count": 12,
   "id": "c4f8c88e-dbad-445e-9c70-cc6923ae079f",
   "metadata": {},
   "outputs": [
    {
     "name": "stdout",
     "output_type": "stream",
     "text": [
      "Parent\n",
      "Child\n",
      "Sambav 10 Welcome\n"
     ]
    }
   ],
   "source": [
    "##3) Multilevel inheritance - child class will inherit from its parent class, \n",
    "#which in turn is inheriting from its parent class.\n",
    "\n",
    "class Base(object):\n",
    "\n",
    "\t# Constructor\n",
    "    def __init__(self,name):\n",
    "        self.name = name\n",
    "        print(\"Parent\")\n",
    "    \n",
    "    def getName(self):\n",
    "        return self.name\n",
    "\n",
    "\n",
    "# Inherited or Sub class \n",
    "class Child(Base):\n",
    "    # Constructor\n",
    "    def __init__(self, name, age):\n",
    "        Base.__init__(self, name)\n",
    "        self.age = age\n",
    "        print(\"Child\")\n",
    "\n",
    "    def getAge(self):\n",
    "            return self.age\n",
    "\n",
    "# Inherited or Sub class \n",
    "\n",
    "\n",
    "class GrandChild(Child):\n",
    "\n",
    "\t# Constructor\n",
    "\tdef __init__(self, name, age, address):\n",
    "\t\tChild.__init__(self, name, age)\n",
    "\t\tself.address = address\n",
    "\n",
    "\t# To get address\n",
    "\tdef getAddress(self):\n",
    "\t\treturn self.address\n",
    "\n",
    "\n",
    "# Driver code\n",
    "g = GrandChild(\"Sambav\", 10, \"Welcome\")\n",
    "print(g.getName(),g.getAge(), g.getAddress())\n",
    "\n",
    "\n",
    " "
   ]
  },
  {
   "cell_type": "code",
   "execution_count": 22,
   "id": "20693f17-5c72-4d26-a7a2-26464a1148dd",
   "metadata": {},
   "outputs": [
    {
     "name": "stdout",
     "output_type": "stream",
     "text": [
      "This is parent\n",
      "This is child 2 level1\n",
      "This is child 2 level2\n",
      "This is parent\n"
     ]
    },
    {
     "ename": "AttributeError",
     "evalue": "'ch2_l1' object has no attribute 'fun1'",
     "output_type": "error",
     "traceback": [
      "\u001b[0;31m---------------------------------------------------------------------------\u001b[0m",
      "\u001b[0;31mAttributeError\u001b[0m                            Traceback (most recent call last)",
      "Cell \u001b[0;32mIn[22], line 30\u001b[0m\n\u001b[1;32m     28\u001b[0m ch2l1 \u001b[38;5;241m=\u001b[39m ch2_l1()\n\u001b[1;32m     29\u001b[0m ch2l1\u001b[38;5;241m.\u001b[39mfun()\n\u001b[0;32m---> 30\u001b[0m \u001b[43mch2l1\u001b[49m\u001b[38;5;241;43m.\u001b[39;49m\u001b[43mfun1\u001b[49m()\n",
      "\u001b[0;31mAttributeError\u001b[0m: 'ch2_l1' object has no attribute 'fun1'"
     ]
    }
   ],
   "source": [
    "##4) Hybrid inheritance- Consists of multiple types of inheritance\n",
    "\n",
    "class parent(object):\n",
    "    \n",
    "    def fun(self):\n",
    "        print(\"This is parent\")\n",
    "        \n",
    "class ch1_l1(parent):\n",
    "    \n",
    "    def fun1(self):\n",
    "        print(\"This is child 1 level1\")\n",
    "\n",
    "class ch2_l1(parent):\n",
    "              \n",
    "    def fun2(self):\n",
    "        print(\"This is child 2 level1\")\n",
    "        \n",
    "class ch2_l2(ch2_l1):\n",
    "    def fun3(self):\n",
    "        print(\"This is child 2 level2\")\n",
    "\n",
    "ch2l2 = ch2_l2()\n",
    "ch2l2.fun()\n",
    "ch2l2.fun2()\n",
    "ch2l2.fun3()\n",
    "\n",
    "\n",
    "ch2l1 = ch2_l1()\n",
    "ch2l1.fun()\n",
    "ch2l1.fun1()"
   ]
  },
  {
   "cell_type": "code",
   "execution_count": 15,
   "id": "36f4ec52-c8d5-4bc4-bc3d-a24326f9cd8c",
   "metadata": {},
   "outputs": [
    {
     "name": "stdout",
     "output_type": "stream",
     "text": [
      "This is base class\n",
      "This is child1\n",
      "This is base class\n",
      "This is child2\n"
     ]
    }
   ],
   "source": [
    "\n",
    "##5)Hierarchical inheritance : When more than 1 class is derived from base class\n",
    "\n",
    "class parent(object):\n",
    "    \n",
    "    def func(self):\n",
    "        print(\"This is base class\")\n",
    "        \n",
    "class child1(parent):\n",
    "    \n",
    "    def ch_func(self):\n",
    "        print(\"This is child1\")\n",
    "\n",
    "class child2(parent):\n",
    "    \n",
    "    def ch2_fun(self):\n",
    "        print(\"This is child2\")\n",
    "        \n",
    "\n",
    "ch1 = child1()\n",
    "ch1.func()\n",
    "ch1.ch_func()\n",
    "\n",
    "ch2 = child2()\n",
    "ch2.func()\n",
    "ch2.ch2_fun()"
   ]
  },
  {
   "cell_type": "code",
   "execution_count": null,
   "id": "654e8c70-167e-4a36-98bb-3d8ef47a2e08",
   "metadata": {},
   "outputs": [],
   "source": []
  }
 ],
 "metadata": {
  "kernelspec": {
   "display_name": "Python 3 (ipykernel)",
   "language": "python",
   "name": "python3"
  },
  "language_info": {
   "codemirror_mode": {
    "name": "ipython",
    "version": 3
   },
   "file_extension": ".py",
   "mimetype": "text/x-python",
   "name": "python",
   "nbconvert_exporter": "python",
   "pygments_lexer": "ipython3",
   "version": "3.10.8"
  }
 },
 "nbformat": 4,
 "nbformat_minor": 5
}
