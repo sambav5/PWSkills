{
 "cells": [
  {
   "cell_type": "code",
   "execution_count": 14,
   "id": "37c9fdc1-a12e-47a8-9517-022174c7d627",
   "metadata": {},
   "outputs": [
    {
     "name": "stdin",
     "output_type": "stream",
     "text": [
      "Please enter Marks in percentage without % symbol 88\n"
     ]
    },
    {
     "name": "stdout",
     "output_type": "stream",
     "text": [
      "Your Grade is B\n"
     ]
    }
   ],
   "source": [
    "## Q1. Write a program to accept percentage and display the grade.\n",
    "\n",
    "def grade(marks):\n",
    "    if(marks > 90):\n",
    "        Grade = \"A\"\n",
    "    elif(marks > 80  & marks <= 90):\n",
    "        Grade = \"B\"\n",
    "    elif(marks >= 60 & marks <= 80):\n",
    "        Grade = \"C\"\n",
    "    else:\n",
    "        Grade = \"D\"\n",
    "    return Grade\n",
    "        \n",
    "marks = input(\"Please enter Marks in percentage without % symbol\")\n",
    "print(\"Your Grade is \"+ grade(int(marks)))\n",
    "\n",
    "    "
   ]
  },
  {
   "cell_type": "code",
   "execution_count": 27,
   "id": "36221bda-9784-45e9-811f-6888c5b8f30d",
   "metadata": {},
   "outputs": [
    {
     "name": "stdin",
     "output_type": "stream",
     "text": [
      "Please enter cost price of your bike 500\n"
     ]
    },
    {
     "name": "stdout",
     "output_type": "stream",
     "text": [
      "Road tax payable is  25.0\n"
     ]
    }
   ],
   "source": [
    "## Q2. Write a program to accept cost price of bike and display the road tax\n",
    "\n",
    "def road_tax(cp):\n",
    "    cp = float(cp)\n",
    "    if(cp > 100000):\n",
    "        tax = 15/100 * cp\n",
    "    elif(cp > 50000  and cp <= 100000):\n",
    "        tax = 10/100 * cp\n",
    "    else:\n",
    "        tax = 5/100 * cp\n",
    "    return tax\n",
    "        \n",
    "cp = input(\"Please enter cost price of your bike\")\n",
    "print(\"Road tax payable is \",road_tax(cp))\n"
   ]
  },
  {
   "cell_type": "code",
   "execution_count": 34,
   "id": "3c6e53aa-45d0-4a4f-8031-d24aee252146",
   "metadata": {},
   "outputs": [
    {
     "name": "stdin",
     "output_type": "stream",
     "text": [
      "Please enter city name from Delhi, Agra, Jaipur Agra\n"
     ]
    },
    {
     "name": "stdout",
     "output_type": "stream",
     "text": [
      "Monument in the city is  Taj Mahal\n"
     ]
    }
   ],
   "source": [
    "## Q3. Write a program to accept city and display the monument\n",
    "\n",
    "def monument(city):\n",
    "    city = city.lower()\n",
    "    if(city == \"delhi\"):\n",
    "        place = \"red fort\"\n",
    "    elif(city == \"agra\"):\n",
    "        place = \"Taj Mahal\"\n",
    "    else:\n",
    "        place = \"Jal Mahal\"\n",
    "    return place\n",
    "        \n",
    "city = input(\"Please enter city name from Delhi, Agra, Jaipur\")\n",
    "print(\"Monument in the city is \",monument(city))"
   ]
  },
  {
   "cell_type": "code",
   "execution_count": 42,
   "id": "cd93c378-0d5a-4784-b8de-8dc302b115e2",
   "metadata": {},
   "outputs": [
    {
     "data": {
      "text/plain": [
       "30.0"
      ]
     },
     "execution_count": 42,
     "metadata": {},
     "output_type": "execute_result"
    }
   ],
   "source": [
    "90/3"
   ]
  },
  {
   "cell_type": "code",
   "execution_count": 59,
   "id": "c541a7fd-f8c0-42e7-bf0b-a4c45d031e96",
   "metadata": {},
   "outputs": [
    {
     "name": "stdin",
     "output_type": "stream",
     "text": [
      "Please enter the number 1000\n"
     ]
    },
    {
     "name": "stdout",
     "output_type": "stream",
     "text": [
      "Number of times divisible by 3 is  5\n"
     ]
    }
   ],
   "source": [
    "## Q4. Check number of times a number divisble by 3 before reminder is less than 10\n",
    "\n",
    "\n",
    "def check(num):\n",
    "    count = 0\n",
    "    while(num>=10):\n",
    "        num = num/3\n",
    "        count +=1\n",
    "    return count\n",
    "\n",
    "num = input(\"Please enter the number\")\n",
    "print(\"Number of times divisible by 3 is \",check(int(num)))"
   ]
  },
  {
   "cell_type": "code",
   "execution_count": 60,
   "id": "3ebe9eeb-8b05-4b7b-815d-b61fe61d8721",
   "metadata": {},
   "outputs": [
    {
     "name": "stdout",
     "output_type": "stream",
     "text": [
      "1\n",
      "2\n",
      "3\n",
      "4\n",
      "5\n"
     ]
    }
   ],
   "source": [
    "## Q5 when and why to use while loop\n",
    "\n",
    "## A5. While loop is exit controlled loop. Continues the loop untill condition is met\n",
    "\n",
    "# program to display numbers from 1 to 5\n",
    "\n",
    "# initialize the variable\n",
    "i = 1\n",
    "n = 5\n",
    "\n",
    "# while loop from i = 1 to 5\n",
    "while i <= n:\n",
    "    print(i)\n",
    "    i = i + 1"
   ]
  },
  {
   "cell_type": "code",
   "execution_count": 64,
   "id": "d002c0b5-03b7-4869-aec7-ad6049631638",
   "metadata": {},
   "outputs": [
    {
     "name": "stdout",
     "output_type": "stream",
     "text": [
      "*\n",
      "#\n",
      "&\n",
      "&\n",
      "&\n",
      "&\n",
      "&\n",
      "&\n",
      "#\n",
      "#\n",
      "#\n",
      "#\n",
      "#\n",
      "*\n",
      "*\n",
      "*\n",
      "*\n",
      "*\n"
     ]
    }
   ],
   "source": [
    "## Q6. use nested while loop to create 3 patterns\n",
    "i=0\n",
    "j=0\n",
    "k=0\n",
    "while i <= 5:\n",
    "    print(\"*\")\n",
    "    i = i+1\n",
    "    while j <= 5:\n",
    "        print(\"#\")\n",
    "        j = j+1\n",
    "        while k <=5:\n",
    "            print(\"&\")\n",
    "            k = k+1"
   ]
  },
  {
   "cell_type": "code",
   "execution_count": 68,
   "id": "35fe4478-34b1-4848-82ab-5894b733e582",
   "metadata": {},
   "outputs": [
    {
     "name": "stdout",
     "output_type": "stream",
     "text": [
      "10\n",
      "9\n",
      "8\n",
      "7\n",
      "6\n",
      "5\n",
      "4\n",
      "3\n",
      "2\n",
      "1\n"
     ]
    }
   ],
   "source": [
    "## Q7. reverse while loop to print from 10 to 1\n",
    "\n",
    "i = 10\n",
    "while i  > 0:\n",
    "    print(i)\n",
    "    i = i-1"
   ]
  },
  {
   "cell_type": "code",
   "execution_count": null,
   "id": "c722a502-98c8-4678-8807-0d4223cfbb04",
   "metadata": {},
   "outputs": [],
   "source": []
  }
 ],
 "metadata": {
  "kernelspec": {
   "display_name": "Python 3 (ipykernel)",
   "language": "python",
   "name": "python3"
  },
  "language_info": {
   "codemirror_mode": {
    "name": "ipython",
    "version": 3
   },
   "file_extension": ".py",
   "mimetype": "text/x-python",
   "name": "python",
   "nbconvert_exporter": "python",
   "pygments_lexer": "ipython3",
   "version": "3.10.8"
  }
 },
 "nbformat": 4,
 "nbformat_minor": 5
}
