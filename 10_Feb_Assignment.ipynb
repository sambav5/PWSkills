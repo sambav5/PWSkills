{
 "cells": [
  {
   "cell_type": "code",
   "execution_count": 8,
   "id": "f288be36-0957-4db0-9caa-b8029d2b1918",
   "metadata": {},
   "outputs": [],
   "source": [
    "## Q1. Which function is used to open a file? What are the different modes of opening a file? Explain each mode of file opening.\n",
    "\n",
    "f1 = open(\"09_Feb_Assignment.ipynb\",mode='r')\n"
   ]
  },
  {
   "cell_type": "markdown",
   "id": "4ee563da-88e5-4718-972d-8705a44792fb",
   "metadata": {},
   "source": [
    "Different modes of fle opening and their functions.\n",
    "\n",
    "'r'       open for reading (default)\n",
    "'w'       open for writing, truncating the file first\n",
    "'x'       create a new file and open it for writing\n",
    "'a'       open for writing, appending to the end of the file if it exists\n",
    "'b'       binary mode\n",
    "'t'       text mode (default)\n",
    "'+'       open a disk file for updating (reading and writing)\n",
    "'U'       universal newline mode (deprecated)"
   ]
  },
  {
   "cell_type": "markdown",
   "id": "ac8e9c83-3636-464e-9e76-3aca8fdf6cd1",
   "metadata": {},
   "source": [
    "Q2. Why close() function is used? Why is it important to close a file?\n",
    "\n",
    "A2. close() function is used to close file which are in open state. \n",
    "close() function is important to free up the system memeory utilized by the fle and \n",
    "close save the buffered changes into the file"
   ]
  },
  {
   "cell_type": "code",
   "execution_count": 16,
   "id": "b0d2f939-430c-47d4-aef9-d4a9e30686fb",
   "metadata": {},
   "outputs": [
    {
     "name": "stdout",
     "output_type": "stream",
     "text": [
      "I want to become a Data Scientist\n"
     ]
    }
   ],
   "source": [
    "## Q3. Write a python program to create a text file. Write ‘I want to become a Data Scientist’ in that file. Thenclose the file. Open this file and read the content of the file.\n",
    "\n",
    "## A3.\n",
    "\n",
    "f1 = open(\"myfile.txt\",mode='w')\n",
    "f1.write(\"I want to become a Data Scientist\")\n",
    "f1.close()\n",
    "\n",
    "f2 = open(\"myfile.txt\",mode='r')\n",
    "print(f2.read())\n",
    "f2.close()\n"
   ]
  },
  {
   "cell_type": "code",
   "execution_count": 39,
   "id": "d65a5c44-8b8d-4170-ba6a-668f739b4803",
   "metadata": {},
   "outputs": [
    {
     "name": "stdout",
     "output_type": "stream",
     "text": [
      "O/P of read\n",
      "Python is the best programming language in the world in 2020Edureka is the biggest Ed-tech platform to learn pythonPython programming is as easy as writing a program in simple English language\n",
      "O/P of readline\n",
      "Py\n",
      "O/P of readlines\n",
      "['Python is the best programming language in the world in 2020Edureka is the biggest Ed-tech platform to learn pythonPython programming is as easy as writing a program in simple English language']\n"
     ]
    }
   ],
   "source": [
    "## Q4. Explain the following with python code: read(), readline() and readlines().\n",
    "\n",
    "f1 = open(\"myfile.txt\",mode='x')\n",
    "f1.write(\"Python is the best programming language in the world in 2020\"\n",
    "\"Edureka is the biggest Ed-tech platform to learn python\"\n",
    "\"Python programming is as easy as writing a program in simple English language\")\n",
    "f1.close()\n",
    "\n",
    "f2 = open(\"myfile.txt\",mode='r')\n",
    "f3 = open(\"myfile.txt\",mode='r')\n",
    "f4 = open(\"myfile.txt\",mode='r')\n",
    "print(\"O/P of read\")\n",
    "print(f2.read())\n",
    "\n",
    "print(\"O/P of readline\")\n",
    "print(f3.readline(2))\n",
    "## readline reads the file line by line\n",
    "\n",
    "print(\"O/P of readlines\")\n",
    "print(f4.readlines())\n",
    "## readlines reads all the lines in a file and ouput in an array\n",
    "\n",
    "f2.close()\n",
    "f3.close()\n",
    "f4.close()\n"
   ]
  },
  {
   "cell_type": "code",
   "execution_count": 41,
   "id": "b32b17a5-ee0b-4637-a295-378c028882ad",
   "metadata": {},
   "outputs": [
    {
     "name": "stdout",
     "output_type": "stream",
     "text": [
      "Python is the best programming language in the world in 2020Edureka is the biggest Ed-tech platform to learn pythonPython programming is as easy as writing a program in simple English language\n"
     ]
    }
   ],
   "source": [
    "## Q5. Explain why with statement is used with open(). What is the advantage of using with statement and open() together?\n",
    "\n",
    "## A5. by using with function we dont have to open or close files as it has built in function _enter__() and _exit__() function which takes care of opening and closng respectively\n",
    "\n",
    "with open(\"myfile.txt\") as my_file:\n",
    "    print(my_file.read())"
   ]
  },
  {
   "cell_type": "code",
   "execution_count": 57,
   "id": "d7bc4fbf-278a-4008-b9af-2086ab0cb39e",
   "metadata": {},
   "outputs": [
    {
     "name": "stdout",
     "output_type": "stream",
     "text": [
      "['Python']\n",
      "['HelloWorld!I am learningPython']\n"
     ]
    }
   ],
   "source": [
    "## Q6. Explain the write() and writelines() functions. Give a suitable example.\n",
    "\n",
    "# Write function writes only a string whereas writelines() writes list of strings\n",
    "\n",
    "first_string = \"Hello\"\n",
    "second_string = \"World!\"\n",
    "third_string = \"I am \"\n",
    "fourth_string = \"learning\"\n",
    "fifth_string = \"Python\"\n",
    "\n",
    "full_string = [first_string, second_string, third_string, fourth_string, fifth_string]\n",
    "\n",
    "new_file = open(\"demoFile.txt\", 'w')\n",
    "new_file.write(fifth_string)\n",
    "new_file.close()\n",
    "\n",
    "\n",
    "read_file = open(\"demoFile.txt\", 'r')\n",
    "print(read_file .readlines())\n",
    "read_file .close()\n",
    "\n",
    "new_file = open(\"demoFile.txt\", 'w')\n",
    "new_file.writelines(full_string)\n",
    "new_file.close()\n",
    "\n",
    "read_file = open(\"demoFile.txt\", 'r')\n",
    "print(read_file .readlines())\n",
    "read_file .close()"
   ]
  },
  {
   "cell_type": "code",
   "execution_count": null,
   "id": "c60906ca-ec08-4e99-a125-556082fb11de",
   "metadata": {},
   "outputs": [],
   "source": []
  }
 ],
 "metadata": {
  "kernelspec": {
   "display_name": "Python 3 (ipykernel)",
   "language": "python",
   "name": "python3"
  },
  "language_info": {
   "codemirror_mode": {
    "name": "ipython",
    "version": 3
   },
   "file_extension": ".py",
   "mimetype": "text/x-python",
   "name": "python",
   "nbconvert_exporter": "python",
   "pygments_lexer": "ipython3",
   "version": "3.10.8"
  }
 },
 "nbformat": 4,
 "nbformat_minor": 5
}
