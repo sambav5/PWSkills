{
 "cells": [
  {
   "cell_type": "markdown",
   "id": "a3fdfe80-ab4d-44cf-8dbf-7f45fda724d6",
   "metadata": {},
   "source": [
    "## Q1. what is multithreading in python? why is it used? Name the module used to handle threads in python\n",
    "\n",
    "A thread is a unit of execution within a process. Multithreading refers to concurrently executing multiple threads by rapidly switching the control of the CPU between threads \n",
    "\n",
    "Multithreading in Python streamlines the efficient utilization of resources as the threads share the same memory and data space\n",
    "\n",
    "Threading modules\n"
   ]
  },
  {
   "cell_type": "markdown",
   "id": "7683304e-f51d-4fbe-a0a4-d6e13b8bad93",
   "metadata": {},
   "source": [
    "## Q2. why threading module used? write the use of the following functions activeCount, currentThread, enumerate\n",
    "\n",
    "The threading module exposes all the methods of the thread module and provides some additional methods and also it exposes all the methods of the thread module and provides some additional methods\n",
    "\n",
    "ActiveCount - This function returns the number of Thread objects currently alive.\n",
    "currentThread - Returns the number of thread objects in the caller's thread control.\n",
    "Enumerate - Returns a list of all thread objects that are currently active."
   ]
  },
  {
   "cell_type": "markdown",
   "id": "62a7ef43-6c52-41d8-b339-51e0f18e226f",
   "metadata": {},
   "source": [
    "## Q3. Explain the following functions\n",
    "run()  − The run() method is the entry point for a thread.\n",
    "start()  − The start() method starts a thread by calling the run method.\n",
    "join([time])  − The join() waits for threads to terminate.\n",
    "isAlive()  − The isAlive() method checks whether a thread is still executing."
   ]
  },
  {
   "cell_type": "code",
   "execution_count": 23,
   "id": "d2a94dad-fa1b-4670-ae25-1a834ada2e56",
   "metadata": {},
   "outputs": [
    {
     "name": "stdout",
     "output_type": "stream",
     "text": [
      "square is 0\n",
      "Cube is 0\n",
      "square is 1\n",
      "Cube is 1\n",
      "square is 4\n",
      "Cube is 8\n",
      "square is 9\n",
      "Cube is 27\n",
      "square is 16\n",
      "Cube is 64\n",
      "square is 25\n",
      "Cube is 125\n",
      "square is 36\n",
      "Cube is 216\n",
      "square is 49\n",
      "Cube is 343\n",
      "square is 64\n",
      "Cube is 512\n",
      "square is 81\n",
      "Cube is 729\n"
     ]
    }
   ],
   "source": [
    "## Q4. write a python program to create two threads. Thread one must print the list of squares and thread two must print the list of cubes\n",
    "\n",
    "import threading\n",
    "\n",
    "\n",
    "\n",
    "def sq_num(num):\n",
    "    print(\"square is {}\".format(num*num))\n",
    "\n",
    "def cu_num(num):\n",
    "    print(\"Cube is {}\".format(num*num*num))\n",
    "\n",
    "if __name__ == '__main__':\n",
    "    for i in range(10):\n",
    "        threading.Thread(target=sq_num, args=(i,)).start()\n",
    "        threading.Thread(target=cu_num, args=(i,)).start()"
   ]
  },
  {
   "cell_type": "markdown",
   "id": "7b8f0db1-6e4a-4a6f-9566-918cba7ec45f",
   "metadata": {},
   "source": [
    "## 5. State advantages and disadvantages of multithreading\n",
    "\n",
    "#### Advantages\n",
    "Enhanced performance by decreased development time\n",
    "Simplified and streamlined program coding\n",
    "Improvised GUI responsiveness\n",
    "Simultaneous and parallelized occurrence of tasks\n",
    "Better use of cache storage by utilization of resources\n",
    "Decreased cost of maintenance\n",
    "Better use of CPU resource\n",
    "\n",
    "#### Disadvantage\n",
    "Complex debugging and testing processes\n",
    "Overhead switching of context\n",
    "Increased potential for deadlock occurrence\n",
    "Increased difficulty level in writing a program\n",
    "Unpredictable results"
   ]
  },
  {
   "cell_type": "markdown",
   "id": "40490745-8db1-4336-95c7-49c7b2101226",
   "metadata": {},
   "source": [
    "## 6. Explain deadlocks and race conditions.\n",
    "\n",
    "#### Race conditions\n",
    "When two processes are competing with each other causing data corruption.\n",
    "\n",
    "#### Deadlocks \n",
    "When two processes are waiting for each other directly or indirectly, it is called deadlock.\n",
    "\n"
   ]
  },
  {
   "cell_type": "code",
   "execution_count": null,
   "id": "0157ea98-6fee-46be-b01e-2b88c7b1c49c",
   "metadata": {},
   "outputs": [],
   "source": []
  }
 ],
 "metadata": {
  "kernelspec": {
   "display_name": "Python 3 (ipykernel)",
   "language": "python",
   "name": "python3"
  },
  "language_info": {
   "codemirror_mode": {
    "name": "ipython",
    "version": 3
   },
   "file_extension": ".py",
   "mimetype": "text/x-python",
   "name": "python",
   "nbconvert_exporter": "python",
   "pygments_lexer": "ipython3",
   "version": "3.10.8"
  }
 },
 "nbformat": 4,
 "nbformat_minor": 5
}
