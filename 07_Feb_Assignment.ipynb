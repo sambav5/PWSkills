{
 "cells": [
  {
   "cell_type": "markdown",
   "id": "12f0ac9d-f13a-4a0c-9efe-362197498d38",
   "metadata": {},
   "source": [
    "Q1. You are writing code for a company. The requirement of the company is that you create a python\n",
    "function that will check whether the password entered by the user is correct or not. The function should\n",
    "take the password as input and return the string “Valid Password” if the entered password follows the\n",
    "below-given password guidelines else it should return “Invalid Password”.\n",
    "Note: 1. The Password should contain at least two uppercase letters and at least two lowercase letters.\n",
    "2. The Password should contain at least a number and three special characters.\n",
    "3. The length of the password should be 10 characters long."
   ]
  },
  {
   "cell_type": "code",
   "execution_count": 44,
   "id": "428b756e-9ce3-480d-9301-fdb26861e231",
   "metadata": {},
   "outputs": [
    {
     "name": "stdin",
     "output_type": "stream",
     "text": [
      "Enter the password ········\n"
     ]
    },
    {
     "name": "stdout",
     "output_type": "stream",
     "text": [
      "Valid Password\n",
      "PAss!@#456\n",
      "2 2 3 3\n"
     ]
    }
   ],
   "source": [
    "from getpass import getpass\n",
    "password = getpass(\"Enter the password\")\n",
    "\n",
    "up=0\n",
    "lo=0\n",
    "sp=0\n",
    "nu=0\n",
    "for ch in password:\n",
    "    if(ch.isupper()):\n",
    "        up = up+1\n",
    "    elif(ch.islower()):\n",
    "        lo = lo+1\n",
    "    elif(ch.isdigit()):\n",
    "        nu = nu+1\n",
    "    else:\n",
    "        sp = sp+1\n",
    "\n",
    "if(up > 1 and lo > 1 and sp > 2 and nu > 0 and len(password) == 10):\n",
    "    print(\"Valid Password\")\n",
    "else:\n",
    "    print(\"Invalid Password\")\n",
    "    \n",
    "print(password)\n",
    "print(up,lo,sp,nu)"
   ]
  },
  {
   "cell_type": "markdown",
   "id": "d2408e01-fcaf-4122-aaf9-7ca32fe40a4b",
   "metadata": {},
   "source": [
    "Q2. Solve the below-given questions using at least one of the following:\n",
    "1. Lambda function\n",
    "2. Filter function\n",
    "3. Zap function\n",
    "4. List Comprehension\n",
    "B Check if the string starts with a particular letterY\n",
    "B Check if the string is numericY\n",
    "B Sort a list of tuples having fruit names and their quantity. [(\"mango\",99),(\"orange\",80), (\"grapes\", 1000)-\n",
    "B Find the squares of numbers from 1 to 10Y\n",
    "B Find the cube root of numbers from 1 to 10Y\n",
    "B Check if a given number is evenY\n",
    "B Filter odd numbers from the given list.\n",
    "[1,2,3,4,5,6,7,8,9,10-\n",
    "B Sort a list of integers into positive and negative integers lists.\n",
    "[1,2,3,4,5,6,-1,-2,-3,-4,-5,0]"
   ]
  },
  {
   "cell_type": "code",
   "execution_count": 3,
   "id": "c2e7f976-57d5-4b34-a59f-aa7414c50f11",
   "metadata": {},
   "outputs": [
    {
     "name": "stdin",
     "output_type": "stream",
     "text": [
      "Enter the character to check if that starts with a\n",
      "Enter the string to check Apple\n"
     ]
    },
    {
     "name": "stdout",
     "output_type": "stream",
     "text": [
      "True\n"
     ]
    }
   ],
   "source": [
    "## Check if the string starts with a particular letter\n",
    "\n",
    "ch = input(\"Enter the character to check if that starts with\")\n",
    "string = input(\"Enter the string to check\")\n",
    "\n",
    "val = lambda x: x.lower().startswith(ch.lower())\n",
    "\n",
    "\n",
    "print(val(string))\n"
   ]
  },
  {
   "cell_type": "code",
   "execution_count": 15,
   "id": "7e217d6c-8b98-4afd-aeba-48e0b0318732",
   "metadata": {},
   "outputs": [
    {
     "name": "stdin",
     "output_type": "stream",
     "text": [
      "Enter  the string to check aba\n"
     ]
    },
    {
     "name": "stdout",
     "output_type": "stream",
     "text": [
      "False\n"
     ]
    }
   ],
   "source": [
    "## Check if the string is numeric\n",
    "\n",
    "string=input(\"Enter  the string to check\")\n",
    "\n",
    "result = lambda x: x.isdigit()\n",
    "\n",
    "print(result(string))"
   ]
  },
  {
   "cell_type": "code",
   "execution_count": 31,
   "id": "355f1107-e487-4410-8279-6d50f014478f",
   "metadata": {},
   "outputs": [
    {
     "name": "stdout",
     "output_type": "stream",
     "text": [
      "[('orange', 80), ('mango', 99), ('grapes', 1000)]\n"
     ]
    }
   ],
   "source": [
    "## Sort a list of tuples having fruit names and their quantity. [(\"mango\",99),(\"orange\",80), (\"grapes\", 1000)\n",
    "\n",
    "fruit=[(\"mango\",99),(\"orange\",80), (\"grapes\", 1000)]\n",
    "fruit.sort(key= lambda x: x[1])\n",
    "print(fruit)"
   ]
  },
  {
   "cell_type": "code",
   "execution_count": 40,
   "id": "a5aea142-fcd2-4225-8909-4b2fb0854203",
   "metadata": {},
   "outputs": [
    {
     "name": "stdout",
     "output_type": "stream",
     "text": [
      "[1, 4, 9, 16, 25, 36, 49, 64, 81, 100]\n"
     ]
    }
   ],
   "source": [
    "## Find the squares of numbers from 1 to 10\n",
    "\n",
    "def sq(n):\n",
    "    return n*n\n",
    "\n",
    "print(list(map(sq, range(1,11))))\n"
   ]
  },
  {
   "cell_type": "code",
   "execution_count": 44,
   "id": "019cc1c8-0331-4be4-9191-183746b347ac",
   "metadata": {},
   "outputs": [
    {
     "name": "stdout",
     "output_type": "stream",
     "text": [
      "[1.0, 1.2599210498948732, 1.4422495703074083, 1.5874010519681994, 1.7099759466766968, 1.8171205928321397, 1.912931182772389, 2.0, 2.080083823051904, 2.154434690031884]\n"
     ]
    }
   ],
   "source": [
    "## Find the cube root of numbers from 1 to 10\n",
    "\n",
    "def cb(n):\n",
    "    return n**(1/3)\n",
    "\n",
    "print(list(map(cb,range(1,11))))"
   ]
  },
  {
   "cell_type": "code",
   "execution_count": 61,
   "id": "e378b140-5705-44d9-a1af-ca82bd3b13a0",
   "metadata": {},
   "outputs": [
    {
     "name": "stdin",
     "output_type": "stream",
     "text": [
      "Enter number to check 8\n"
     ]
    },
    {
     "name": "stdout",
     "output_type": "stream",
     "text": [
      "True\n"
     ]
    }
   ],
   "source": [
    "## Check if a given number is even\n",
    "\n",
    "num = input(\"Enter number to check\")\n",
    "eve = lambda x: int(x)%2  == 0\n",
    "print(eve(num))"
   ]
  },
  {
   "cell_type": "code",
   "execution_count": 62,
   "id": "a1e1b01d-03b1-4992-aee4-abf206c506dd",
   "metadata": {},
   "outputs": [
    {
     "name": "stdout",
     "output_type": "stream",
     "text": [
      "1\n",
      "3\n",
      "5\n",
      "7\n",
      "9\n"
     ]
    }
   ],
   "source": [
    "## Filter odd numbers from the given list.\n",
    "\n",
    "lt = [1,2,3,4,5,6,7,8,9,10]\n",
    "\n",
    "def odd(n):\n",
    "    if n%2==0:\n",
    "        return False\n",
    "    else:\n",
    "        return True\n",
    "\n",
    "res = filter(odd,lt)\n",
    "\n",
    "for x in res:\n",
    "    print(x)"
   ]
  },
  {
   "cell_type": "code",
   "execution_count": 74,
   "id": "d14752f6-792d-47ba-ba61-578f59abb8e7",
   "metadata": {},
   "outputs": [
    {
     "name": "stdout",
     "output_type": "stream",
     "text": [
      "[0, 1, 2, 3, 4, 5, 6]\n",
      "[-5, -4, -3, -2, -1]\n"
     ]
    }
   ],
   "source": [
    "## Sort a list of integers into positive and negative integers lists.\n",
    "lt = [1,2,3,4,5,6,-1,-2,-3,-4,-5,0]\n",
    "\n",
    "p = [x for x in lt if(x>=0)]\n",
    "n = [x for x in lt if(x<0)]\n",
    "\n",
    "print(sorted(p))\n",
    "print(sorted(n))"
   ]
  },
  {
   "cell_type": "code",
   "execution_count": null,
   "id": "f6604726-d9f1-4af9-b2e0-bfa77470c626",
   "metadata": {},
   "outputs": [],
   "source": []
  }
 ],
 "metadata": {
  "kernelspec": {
   "display_name": "Python 3 (ipykernel)",
   "language": "python",
   "name": "python3"
  },
  "language_info": {
   "codemirror_mode": {
    "name": "ipython",
    "version": 3
   },
   "file_extension": ".py",
   "mimetype": "text/x-python",
   "name": "python",
   "nbconvert_exporter": "python",
   "pygments_lexer": "ipython3",
   "version": "3.10.8"
  }
 },
 "nbformat": 4,
 "nbformat_minor": 5
}
