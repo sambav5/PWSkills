{
 "cells": [
  {
   "cell_type": "markdown",
   "id": "b478daa0-ab4b-4229-b5f0-3b7d827f9fb9",
   "metadata": {},
   "source": [
    "## Q1. What is a database? Differentiate between SQL and NoSQL databases.\n",
    "\n",
    "Database is a technology which can be used to store data electronically.\n",
    "\n",
    "SQL DB - Structured Query Language DB or relational DB is a data base technlogy langugage where we can store data in structured manner with the help of rows and columns\n",
    "\n",
    "NoSQL - Not only SQL DB stores data outside the traditional structure as in SQL DB"
   ]
  },
  {
   "cell_type": "markdown",
   "id": "f9c1dc9e-5e14-4047-8f22-4338949207c4",
   "metadata": {},
   "source": [
    "## Q2. What is DDL? Explain why CREATE, DROP, ALTER, and TRUNCATE are used with an example.\n",
    "\n",
    "DDL - Data definition language is part of SQL which is used to describe the data and relationship in database.\n",
    "\n",
    "## Create - It is used to create a db, table, view, synonym, function etc. in database.\n",
    "\n",
    "create table test;\n",
    "\n",
    "## DROP  - it is used to remove objects from Database\n",
    "\n",
    "drop database db_test;\n",
    "\n",
    "## ALTER, - Alter is used to change the database object\n",
    "\n",
    "alter table add column2;\n",
    "\n",
    "## TRUNCATE is used to delete the data from table without deleting the table\n",
    "\n",
    "truncate table test;\n"
   ]
  },
  {
   "cell_type": "markdown",
   "id": "8778415d-65f7-4bcb-bc1a-a4326b040b82",
   "metadata": {},
   "source": [
    "## Q3. What is DML? Explain INSERT, UPDATE, and DELETE with an example.\n",
    "\n",
    "DML - Data manipulation language is also a part of SQL which i used to modify or delete the database objects and relationship\n",
    "\n",
    "## Insert - It is used to add data into the table\n",
    "\n",
    "insert into table test values(100,\"Sambav\")\n",
    "\n",
    "## UPDATE - It is used to update the data in the database\n",
    "update table test set id = 102 where name = \"Sambav\"\n",
    "\n",
    "## DELETE - It is  used to delete a object from database\n",
    "Delete table test\n"
   ]
  },
  {
   "cell_type": "markdown",
   "id": "01b977b1-0f30-40c0-9c78-8c1a18627525",
   "metadata": {},
   "source": [
    "## Q4. What is DQL? Explain SELECT with an example.\n",
    "\n",
    "DQL - Data Query Language is used to get data from database\n",
    "\n",
    "## Select - Used to select data from DB\n",
    "\n",
    "select * from test\n"
   ]
  },
  {
   "cell_type": "markdown",
   "id": "add368fe-ce9a-4416-be27-fc9433b19966",
   "metadata": {},
   "source": [
    "## Q5. Explain Primary Key and Foreign Key.\n",
    "\n",
    "Primary Key : Primary key is a column in Database table used to uniquely identify the data.\n",
    "\n",
    "Foreign key : It is a column or combinations of columns used to link 2 tables in a foreign key table"
   ]
  },
  {
   "cell_type": "code",
   "execution_count": 5,
   "id": "59483eef-c83a-4ffe-b3bb-363003a9298c",
   "metadata": {},
   "outputs": [
    {
     "ename": "ModuleNotFoundError",
     "evalue": "No module named 'mysql'",
     "output_type": "error",
     "traceback": [
      "\u001b[0;31m---------------------------------------------------------------------------\u001b[0m",
      "\u001b[0;31mModuleNotFoundError\u001b[0m                       Traceback (most recent call last)",
      "Cell \u001b[0;32mIn[5], line 3\u001b[0m\n\u001b[1;32m      1\u001b[0m \u001b[38;5;66;03m## Q6. Write a python code to connect MySQL to python. Explain the cursor() and execute() method.\u001b[39;00m\n\u001b[0;32m----> 3\u001b[0m \u001b[38;5;28;01mimport\u001b[39;00m \u001b[38;5;21;01mmysql\u001b[39;00m\u001b[38;5;21;01m.\u001b[39;00m\u001b[38;5;21;01mconnector\u001b[39;00m\n\u001b[1;32m      6\u001b[0m mydb \u001b[38;5;241m=\u001b[39m mysql\u001b[38;5;241m.\u001b[39mconnector\u001b[38;5;241m.\u001b[39mconnect(\n\u001b[1;32m      7\u001b[0m   host\u001b[38;5;241m=\u001b[39m\u001b[38;5;124m\"\u001b[39m\u001b[38;5;124m172.18.0.38:3306\u001b[39m\u001b[38;5;124m\"\u001b[39m,\n\u001b[1;32m      8\u001b[0m   user\u001b[38;5;241m=\u001b[39m\u001b[38;5;124m\"\u001b[39m\u001b[38;5;124mabc\u001b[39m\u001b[38;5;124m\"\u001b[39m,\n\u001b[1;32m      9\u001b[0m   password\u001b[38;5;241m=\u001b[39m\u001b[38;5;124m\"\u001b[39m\u001b[38;5;124mpassword\u001b[39m\u001b[38;5;124m\"\u001b[39m\n\u001b[1;32m     10\u001b[0m )\n\u001b[1;32m     12\u001b[0m \u001b[38;5;66;03m## cursor() method is used to create a cursor in database which can be used to access data.\u001b[39;00m\n\u001b[1;32m     13\u001b[0m \n\u001b[1;32m     14\u001b[0m \u001b[38;5;66;03m## execute() method is used to execute SQL commands in python.\u001b[39;00m\n",
      "\u001b[0;31mModuleNotFoundError\u001b[0m: No module named 'mysql'"
     ]
    }
   ],
   "source": [
    "## Q6. Write a python code to connect MySQL to python. Explain the cursor() and execute() method.\n",
    "\n",
    "import mysql.connector\n",
    "\n",
    "\n",
    "mydb = mysql.connector.connect(\n",
    "  host=\"172.18.0.38:3306\",\n",
    "  user=\"abc\",\n",
    "  password=\"password\"\n",
    ")\n",
    "\n",
    "## cursor() method is used to create a cursor in database which can be used to access data.\n",
    "\n",
    "## execute() method is used to execute SQL commands in python."
   ]
  },
  {
   "cell_type": "markdown",
   "id": "f6e04c63-0f1e-485e-b83c-3e7f22c65c7f",
   "metadata": {},
   "source": [
    "## Q7. Give the order of execution of SQL clauses in an SQL query.\n",
    "\n",
    "1. FROM/JOIN\n",
    "\n",
    "2. WHERE\n",
    "\n",
    "3. GROUP BY\n",
    "\n",
    "4. HAVING\n",
    "\n",
    "5. SELECT\n",
    "\n",
    "6. ORDER BY\n",
    "\n",
    "7. LIMIT/OFFSET"
   ]
  },
  {
   "cell_type": "code",
   "execution_count": null,
   "id": "333d8edc-b125-4a48-9db0-6af691186ca4",
   "metadata": {},
   "outputs": [],
   "source": []
  }
 ],
 "metadata": {
  "kernelspec": {
   "display_name": "Python 3 (ipykernel)",
   "language": "python",
   "name": "python3"
  },
  "language_info": {
   "codemirror_mode": {
    "name": "ipython",
    "version": 3
   },
   "file_extension": ".py",
   "mimetype": "text/x-python",
   "name": "python",
   "nbconvert_exporter": "python",
   "pygments_lexer": "ipython3",
   "version": "3.10.8"
  }
 },
 "nbformat": 4,
 "nbformat_minor": 5
}
