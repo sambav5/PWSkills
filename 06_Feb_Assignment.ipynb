{
 "cells": [
  {
   "cell_type": "markdown",
   "id": "c6ffb3f9-c443-41e0-ac93-8d20a5bb4748",
   "metadata": {},
   "source": [
    "Q1. Create a function which will take a list as an argument and return the product of all the numbers\n",
    "after creating a flat list.\n",
    "Use the below-given list as an argument for your function.\n",
    "\n",
    "list1 = [1,2,3,4, [44,55,66, True], False, (34,56,78,89,34), {1,2,3,3,2,1}, {1:34, \"key2\": [55, 67, 78, 89], 4: (45,\n",
    "22, 61, 34)}, [56, 'data science'], 'Machine Learning']\n",
    "\n"
   ]
  },
  {
   "cell_type": "code",
   "execution_count": 34,
   "id": "3e128172-2a02-44ed-ac56-e11f4e529caa",
   "metadata": {},
   "outputs": [
    {
     "name": "stdout",
     "output_type": "stream",
     "text": [
      "[1, 2, 3, 4, 44, 55, 66, True, False, 34, 56, 78, 89, 34, 1, 2, 3, 1, 34, 'key2', 55, 67, 78, 89, 4, 45, 22, 61, 34, 56, 'data science', 'Machine Learning']\n"
     ]
    }
   ],
   "source": [
    "import math\n",
    "\n",
    "list1 = [1,2,3,4, [44,55,66, True], False, (34,56,78,89,34), {1,2,3,3,2,1}, {1:34, \"key2\": [55, 67, 78, 89], 4: (45, 22, 61, 34)}, [56, 'data science'], 'Machine Learning']\n",
    "\n",
    "def convert2list(list1):\n",
    "    res = 1\n",
    "    flatlist=[]\n",
    "    for subpart in list1:\n",
    "        if type(subpart) == list:\n",
    "            for num in subpart:\n",
    "                flatlist.append(num)\n",
    "        elif type(subpart) == tuple:\n",
    "            for tup in subpart:\n",
    "                flatlist.append(tup)\n",
    "        elif type(subpart) == set:\n",
    "            for se in subpart:\n",
    "                flatlist.append(se)\n",
    "        elif type(subpart) == dict:\n",
    "            for di in subpart:\n",
    "                flatlist.append(di)\n",
    "                flatlist.append(subpart.get(di))\n",
    "        else:\n",
    "            flatlist.append(subpart)\n",
    "    return flatlist\n",
    "\n",
    "\n",
    "print(convert2list(convert2list(list1)))\n",
    "        \n",
    "        \n",
    "        \n",
    "\n",
    "\n",
    "\n",
    "\n",
    "    "
   ]
  },
  {
   "cell_type": "markdown",
   "id": "b8852366-fca6-4b8b-97b0-d0e5e05f3d70",
   "metadata": {},
   "source": [
    "Q2. Write a python program for encrypting a message sent to you by your friend. The logic of encryption\n",
    "should be such that, for a the output should be z. For b, the output should be y. For c, the output should\n",
    "be x respectively. Also, the whitespace should be replaced with a dollar sign. Keep the punctuation\n",
    "marks unchanged.\n",
    "\n",
    "Input Sentence: I want to become a Data Scientist.\n",
    "Encrypt the above input sentence using the program you just created.\n",
    "Note: Convert the given input sentence into lowercase before encrypting. The final output should be\n",
    "lowercase.\n"
   ]
  },
  {
   "cell_type": "code",
   "execution_count": 27,
   "id": "a262eaef-5596-4d30-b468-5fcabef6b3a9",
   "metadata": {},
   "outputs": [
    {
     "name": "stdout",
     "output_type": "stream",
     "text": [
      "Encrypted msg is r$dzmg$gl$yvxlnv$z$wzgz$hxrvmgrhg\n"
     ]
    }
   ],
   "source": [
    "alp = list(map(chr, range(ord('a'), ord('z')+1)))\n",
    "msg = \"I want to become a Data Scientist\"\n",
    "\n",
    "emsg = \"\"\n",
    "for ch in msg:\n",
    "    if(ch == \" \"):\n",
    "        emsg = emsg+('$')\n",
    "    else:\n",
    "        emsg = emsg+(alp[-alp.index(ch.lower())-1])\n",
    "\n",
    "print(\"Encrypted msg is \"+emsg)"
   ]
  },
  {
   "cell_type": "code",
   "execution_count": null,
   "id": "8788ac82-f185-4995-8cef-14936e8df02b",
   "metadata": {},
   "outputs": [],
   "source": []
  }
 ],
 "metadata": {
  "kernelspec": {
   "display_name": "Python 3 (ipykernel)",
   "language": "python",
   "name": "python3"
  },
  "language_info": {
   "codemirror_mode": {
    "name": "ipython",
    "version": 3
   },
   "file_extension": ".py",
   "mimetype": "text/x-python",
   "name": "python",
   "nbconvert_exporter": "python",
   "pygments_lexer": "ipython3",
   "version": "3.10.8"
  }
 },
 "nbformat": 4,
 "nbformat_minor": 5
}
