{
 "cells": [
  {
   "cell_type": "code",
   "execution_count": 4,
   "id": "5bfac5f4-3de4-4653-9b5b-dc9f33f7d054",
   "metadata": {},
   "outputs": [],
   "source": [
    "## Q1, Create a vehicle class with an init method having instance variables as name_of_vehicle, max_speed and average_of_vehicle.\n",
    "\n",
    "\n",
    "class vehicle:\n",
    "    def __init__(self,name_of_vehicle,max_speed,average_of_vehicle):\n",
    "        self.name_of_vehicle = name_of_vehicle\n",
    "        self.max_speed = max_speed\n",
    "        self.average_of_vehicle = average_of_vehicle\n",
    "\n"
   ]
  },
  {
   "cell_type": "code",
   "execution_count": 23,
   "id": "d22a87cb-5972-4321-8e50-137628f93e81",
   "metadata": {},
   "outputs": [],
   "source": [
    "## Q2. Create a child class car from the vehicle class created in Que 1, which will inherit the vehicle class.\n",
    "\n",
    "##Create a method named seating_capacity which takes capacity as an argument and returns the name of the vehicle and its seating capacity.\n",
    "\n",
    "class car(vehicle):\n",
    "    def __init__(self,name_of_vehicle,max_speed,average_of_vehicle):\n",
    "        vehicle.__init__(self,name_of_vehicle,max_speed,average_of_vehicle)\n",
    "    def seating_capacity(self,capacity):\n",
    "        return self.name_of_vehicle,capacity"
   ]
  },
  {
   "cell_type": "code",
   "execution_count": 24,
   "id": "ee268d13-ff9d-470e-8841-380f2aeb523b",
   "metadata": {},
   "outputs": [
    {
     "data": {
      "text/plain": [
       "('Tesla', 4)"
      ]
     },
     "execution_count": 24,
     "metadata": {},
     "output_type": "execute_result"
    }
   ],
   "source": [
    "Tesla = car(\"Tesla\",150,4)\n",
    "\n",
    "Tesla.seating_capacity(4)"
   ]
  },
  {
   "cell_type": "code",
   "execution_count": 79,
   "id": "24995da2-b6ad-425a-9a86-ca3a8a5a788a",
   "metadata": {},
   "outputs": [],
   "source": [
    "## Q3. What is multiple inheritance? Write a python code to demonstrate multiple inheritance.\n",
    "\n",
    "## When child inherits from multiple parent class. it is called multiple inheritance\n",
    "\n",
    "class father():\n",
    "    def __init__(self,name):\n",
    "        self.fname = name\n",
    "    \n",
    "    def display(self):\n",
    "        print(\"Father name is \",self.fname)\n",
    "\n",
    "class mother():\n",
    "    def __init__(self,name):\n",
    "        self.mname = name\n",
    "    def display():\n",
    "        print(\"Mother name is \",mname)\n",
    "        \n",
    "class child(father, mother):\n",
    "    def __init__(self,fname,mname):\n",
    "        father.__init__(self,fname)\n",
    "        mother.__init__(self,mname)\n",
    "    \n",
    "    def child_name(self):\n",
    "        print(self.fname,self.mname)\n",
    "        "
   ]
  },
  {
   "cell_type": "code",
   "execution_count": 80,
   "id": "447f49a1-1e67-4979-abdd-4b767e8bd803",
   "metadata": {},
   "outputs": [
    {
     "name": "stdout",
     "output_type": "stream",
     "text": [
      "Tom Jerry\n"
     ]
    }
   ],
   "source": [
    "baby = child(\"Tom\",\"Jerry\")\n",
    "baby.child_name()"
   ]
  },
  {
   "cell_type": "code",
   "execution_count": 90,
   "id": "a709d8e0-8b25-4756-b221-6c6963ba3a97",
   "metadata": {},
   "outputs": [],
   "source": [
    "## Q4. What are getter and setter in python? Create a class and create a getter and a setter method in this class.\n",
    "\n",
    "## A4. Getter and setter allows to set the value for non public attributes by not exposing them directly\n",
    "\n",
    "class example:\n",
    "    \n",
    "    def __init__(self,name,desc):\n",
    "        self._name=name\n",
    "        self._desc=desc\n",
    "        \n",
    "        \n",
    "    def get_name(self):\n",
    "        return self._name\n",
    "    \n",
    "    def set_name(self,value):\n",
    "        self._name=value\n",
    "    \n",
    "    def get_desc(self):\n",
    "        return self._desc\n",
    "    \n",
    "    def set_desc(self,value):\n",
    "        self._desc=value"
   ]
  },
  {
   "cell_type": "code",
   "execution_count": 91,
   "id": "bbc93563-e040-4eb3-b691-a1b8a690e927",
   "metadata": {},
   "outputs": [],
   "source": [
    "ex = example(\"test\",\"example test\")"
   ]
  },
  {
   "cell_type": "code",
   "execution_count": 92,
   "id": "be797bb7-a833-4805-9a70-b557023feb1d",
   "metadata": {},
   "outputs": [
    {
     "data": {
      "text/plain": [
       "'example test'"
      ]
     },
     "execution_count": 92,
     "metadata": {},
     "output_type": "execute_result"
    }
   ],
   "source": [
    "ex.get_desc()"
   ]
  },
  {
   "cell_type": "code",
   "execution_count": 86,
   "id": "29851d19-d148-4475-9b78-d0c349a35c2f",
   "metadata": {},
   "outputs": [],
   "source": [
    "ex.set_desc(\"modified desc\")"
   ]
  },
  {
   "cell_type": "code",
   "execution_count": 87,
   "id": "5f81f2e5-b432-4704-ab88-3f838ebc335e",
   "metadata": {},
   "outputs": [
    {
     "data": {
      "text/plain": [
       "'modified desc'"
      ]
     },
     "execution_count": 87,
     "metadata": {},
     "output_type": "execute_result"
    }
   ],
   "source": [
    "ex.get_desc()"
   ]
  },
  {
   "cell_type": "code",
   "execution_count": 112,
   "id": "8b812758-fc8e-4ad8-8cdf-3d5926cf3ffe",
   "metadata": {},
   "outputs": [],
   "source": [
    "## Q5.What is method overriding in python? Write a python code to demonstrate method overriding.\n",
    "\n",
    "## A5. Method overriding allows the child class to modify the implementation of function which is already defined in parent class\n",
    "\n",
    "class parent:\n",
    "    def __init__(self):\n",
    "        self.value = \"This is parent class\"\n",
    "    \n",
    "    def show(self):\n",
    "        print(self.value)\n",
    "\n",
    "class child(parent):\n",
    "    def __init__(self):\n",
    "        self.value = \"This is child class\"\n",
    "    \n",
    "    def show(self):\n",
    "        print(self.value)\n",
    "        "
   ]
  },
  {
   "cell_type": "code",
   "execution_count": 115,
   "id": "ad4100c1-a328-4eff-b96f-bc8d9fa4f954",
   "metadata": {},
   "outputs": [],
   "source": [
    "child1 = child()\n",
    "parent1 = parent()"
   ]
  },
  {
   "cell_type": "code",
   "execution_count": 116,
   "id": "eb00fe50-b08d-48ec-a4cf-50045f80ee39",
   "metadata": {},
   "outputs": [
    {
     "name": "stdout",
     "output_type": "stream",
     "text": [
      "This is parent class\n",
      "This is child class\n"
     ]
    }
   ],
   "source": [
    "parent1.show()\n",
    "child1.show()"
   ]
  },
  {
   "cell_type": "code",
   "execution_count": null,
   "id": "2de7c4e4-010e-4a0f-b175-a9f834c1f8ca",
   "metadata": {},
   "outputs": [],
   "source": []
  }
 ],
 "metadata": {
  "kernelspec": {
   "display_name": "Python 3 (ipykernel)",
   "language": "python",
   "name": "python3"
  },
  "language_info": {
   "codemirror_mode": {
    "name": "ipython",
    "version": 3
   },
   "file_extension": ".py",
   "mimetype": "text/x-python",
   "name": "python",
   "nbconvert_exporter": "python",
   "pygments_lexer": "ipython3",
   "version": "3.10.8"
  }
 },
 "nbformat": 4,
 "nbformat_minor": 5
}
