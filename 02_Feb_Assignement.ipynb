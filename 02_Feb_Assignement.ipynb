{
 "cells": [
  {
   "cell_type": "markdown",
   "id": "0a8e673c-a2ce-4a48-ab0f-9606a1c6d5f9",
   "metadata": {},
   "source": [
    "Q1. What are the characteristics of the tuples? Is tuple immutable?"
   ]
  },
  {
   "cell_type": "markdown",
   "id": "d612654c-8a26-4213-9d69-1442cdcd6b22",
   "metadata": {},
   "source": [
    "A1. Tuple is immutable, ordered and indexed sequence which will allow to store duplicate values. Yes. Tuple is immutable."
   ]
  },
  {
   "cell_type": "markdown",
   "id": "1499a2a8-b73c-4c1a-a73c-1c0040f07a2a",
   "metadata": {},
   "source": [
    "Q2. What are the two tuple methods in python? Give an example of each method. Give a reason why\n",
    "tuples have only two in-built methods as compared to Lists."
   ]
  },
  {
   "cell_type": "markdown",
   "id": "5ce17467-0730-44a3-8f49-0f546599778d",
   "metadata": {},
   "source": [
    "A2. count and index are the two tuple methods.\n",
    "1) count returns the number of times a element  in Tuple\n",
    "2) Index returns the index of the element in tuple\n",
    "\n",
    "As tuple is immutable it has only 2 functions where as List is mutable and so it has many functions.\n"
   ]
  },
  {
   "cell_type": "code",
   "execution_count": 23,
   "id": "1fbd55ca-1057-4e6d-af49-a8ba5bcd8941",
   "metadata": {},
   "outputs": [
    {
     "data": {
      "text/plain": [
       "2"
      ]
     },
     "execution_count": 23,
     "metadata": {},
     "output_type": "execute_result"
    }
   ],
   "source": [
    "## Examples are as below\n",
    "\n",
    "a=(1,2,3,2)\n",
    "a.count(2)\n"
   ]
  },
  {
   "cell_type": "code",
   "execution_count": 10,
   "id": "270bb626-0d45-4452-aa02-a7f1ea8284b7",
   "metadata": {},
   "outputs": [
    {
     "data": {
      "text/plain": [
       "0"
      ]
     },
     "execution_count": 10,
     "metadata": {},
     "output_type": "execute_result"
    }
   ],
   "source": [
    "a.index(1)"
   ]
  },
  {
   "cell_type": "markdown",
   "id": "55fcd02c-f631-42e5-a419-84ef5d6139ad",
   "metadata": {},
   "source": [
    "Q3. Which collection datatypes in python do not allow duplicate items? Write a code using a set to remove\n",
    "duplicates from the given list."
   ]
  },
  {
   "cell_type": "markdown",
   "id": "cac9aed8-ec90-444b-a4b3-703bc61d4080",
   "metadata": {},
   "source": [
    "A3. Set doesnot allow to store duplicate items."
   ]
  },
  {
   "cell_type": "code",
   "execution_count": 9,
   "id": "21807e1d-6333-44e8-8a3e-f56a34480d1d",
   "metadata": {},
   "outputs": [],
   "source": [
    "## code using set to remove duplicates from a list\n",
    "\n",
    "List = [1, 1, 1, 2, 1, 3, 1, 4, 2, 1, 2, 2, 2, 3, 2, 4, 3, 1, 3, 2, 3, 3, 3, 4, 4, 1, 4, 2, 4, 3, 4, 4]"
   ]
  },
  {
   "cell_type": "code",
   "execution_count": 11,
   "id": "3d41e1cc-21be-471c-8d52-74f16ae71ffc",
   "metadata": {},
   "outputs": [
    {
     "data": {
      "text/plain": [
       "[1, 2, 3, 4]"
      ]
     },
     "execution_count": 11,
     "metadata": {},
     "output_type": "execute_result"
    }
   ],
   "source": [
    "list(set(List))"
   ]
  },
  {
   "cell_type": "markdown",
   "id": "9b04637d-8bec-469a-b33f-461c37c47504",
   "metadata": {},
   "source": [
    "Q4. Explain the difference between the union() and update() methods for a set. Give an example of\n",
    "each method.\n",
    "\n",
    "A4.\n",
    "\n",
    "union() method joins 2 set and returns a new set where as update() method updates a set itself.\n",
    "\n",
    "in below example, when we union a and b, a new set is created joining all elements from a and b still a and b remains unchanged.\n",
    "\n",
    "where as when we update a with b, a is updated with values of b"
   ]
  },
  {
   "cell_type": "code",
   "execution_count": 38,
   "id": "392cda86-d471-4f1d-afc5-f768672e4fba",
   "metadata": {},
   "outputs": [],
   "source": [
    "## Example for union() and updated() methods for a set\n",
    "\n",
    "a={1,2,3,4}\n",
    "b={5,6,7,8}"
   ]
  },
  {
   "cell_type": "code",
   "execution_count": 39,
   "id": "707c399e-bb26-4be3-b4b7-5c9c62cacfdb",
   "metadata": {},
   "outputs": [
    {
     "data": {
      "text/plain": [
       "{1, 2, 3, 4, 5, 6, 7, 8}"
      ]
     },
     "execution_count": 39,
     "metadata": {},
     "output_type": "execute_result"
    }
   ],
   "source": [
    "a.union(b)"
   ]
  },
  {
   "cell_type": "code",
   "execution_count": 40,
   "id": "3e7668fc-8cf3-44c7-8327-06e5f7a48916",
   "metadata": {},
   "outputs": [
    {
     "data": {
      "text/plain": [
       "{1, 2, 3, 4}"
      ]
     },
     "execution_count": 40,
     "metadata": {},
     "output_type": "execute_result"
    }
   ],
   "source": [
    "a"
   ]
  },
  {
   "cell_type": "code",
   "execution_count": 41,
   "id": "1a6e9f15-90fe-4b86-adbf-2a0f79760500",
   "metadata": {},
   "outputs": [],
   "source": [
    "a.update(b)"
   ]
  },
  {
   "cell_type": "code",
   "execution_count": 42,
   "id": "74042cbb-a47a-44a1-ade9-c1c6271dcb03",
   "metadata": {},
   "outputs": [
    {
     "data": {
      "text/plain": [
       "{1, 2, 3, 4, 5, 6, 7, 8}"
      ]
     },
     "execution_count": 42,
     "metadata": {},
     "output_type": "execute_result"
    }
   ],
   "source": [
    "a"
   ]
  },
  {
   "cell_type": "markdown",
   "id": "c9584d6a-1509-4c17-b5c8-50aceb0e7dfc",
   "metadata": {},
   "source": [
    "Q5.What is a dictionary? Give an example. Also, state whether a dictionary is ordered or unordered.\n",
    "\n",
    "A5.\n",
    "\n",
    "Dictionary are used to store key and values pairs. it is ordered mutuable and doesnot allow duplicates.\n",
    "\n",
    "Ordered here refers to fixed order of items."
   ]
  },
  {
   "cell_type": "code",
   "execution_count": 55,
   "id": "1e1a3aa7-a10e-4573-9756-aabe91558842",
   "metadata": {},
   "outputs": [],
   "source": [
    "## Examples of dict \n",
    "\n",
    "adict = {\"a\":1,\"a\":2,\"b\":1}"
   ]
  },
  {
   "cell_type": "code",
   "execution_count": 51,
   "id": "182b795c-3a1a-438e-b3bb-ecb46daab179",
   "metadata": {},
   "outputs": [
    {
     "data": {
      "text/plain": [
       "dict"
      ]
     },
     "execution_count": 51,
     "metadata": {},
     "output_type": "execute_result"
    }
   ],
   "source": [
    "type(adict)"
   ]
  },
  {
   "cell_type": "code",
   "execution_count": 53,
   "id": "f9ba8374-71bc-4f13-bf17-f92ba78edaa2",
   "metadata": {},
   "outputs": [
    {
     "data": {
      "text/plain": [
       "{'a': 2, 'b': 1}"
      ]
     },
     "execution_count": 53,
     "metadata": {},
     "output_type": "execute_result"
    }
   ],
   "source": [
    "adict"
   ]
  },
  {
   "cell_type": "markdown",
   "id": "8757c984-4a22-4ab8-9512-5d2633fb54d7",
   "metadata": {},
   "source": [
    "Q6. Can we create a nested dictionary? If so, please give an example by creating a simple one-level\n",
    "nested dictionary.\n",
    "\n",
    "A6. We can create nested dictinary."
   ]
  },
  {
   "cell_type": "code",
   "execution_count": 60,
   "id": "605683a7-fa9a-402d-871a-22bae6bcbb55",
   "metadata": {},
   "outputs": [],
   "source": [
    "## Example of nested dictionary\n",
    "\n",
    "nestDict={\"name\":\"Sambav\",\"Age\":30,\"Marks\":{\"Eng\":90,\"Mat\":100},\"Country\":\"India\"}"
   ]
  },
  {
   "cell_type": "code",
   "execution_count": 61,
   "id": "9e4ba8a4-524c-4a00-bb41-a3d59d53e26d",
   "metadata": {},
   "outputs": [
    {
     "data": {
      "text/plain": [
       "{'name': 'Sambav',\n",
       " 'Age': 30,\n",
       " 'Marks': {'Eng': 90, 'Mat': 100},\n",
       " 'Country': 'India'}"
      ]
     },
     "execution_count": 61,
     "metadata": {},
     "output_type": "execute_result"
    }
   ],
   "source": [
    "nestDict"
   ]
  },
  {
   "cell_type": "markdown",
   "id": "4a50126e-b7d9-4467-ba3a-8878b145e02b",
   "metadata": {},
   "source": [
    "Q7. Using setdefault() method, create key named topics in the given dictionary and also add the value of\n",
    "the key as this list ['Python', 'Machine Learning’, 'Deep Learning']"
   ]
  },
  {
   "cell_type": "code",
   "execution_count": 72,
   "id": "009ac423-6ff7-4eba-8311-114081c31a4c",
   "metadata": {},
   "outputs": [
    {
     "data": {
      "text/plain": [
       "['python', 'Machine Learning']"
      ]
     },
     "execution_count": 72,
     "metadata": {},
     "output_type": "execute_result"
    }
   ],
   "source": [
    "##A7\n",
    "\n",
    "dict1 = {'language' : 'Python', 'course': 'Data Science Masters'}\n",
    "\n",
    "dict1.setdefault(\"named topics\",[\"python\",\"Machine Learning\"])"
   ]
  },
  {
   "cell_type": "code",
   "execution_count": 71,
   "id": "fb7a77a0-3fa6-4bf2-9bd1-aca6aa88b803",
   "metadata": {},
   "outputs": [
    {
     "data": {
      "text/plain": [
       "{'language': 'Python',\n",
       " 'course': 'Data Science Masters',\n",
       " 'named topics': ['python', 'Machine Learning']}"
      ]
     },
     "execution_count": 71,
     "metadata": {},
     "output_type": "execute_result"
    }
   ],
   "source": [
    "dict1"
   ]
  },
  {
   "cell_type": "markdown",
   "id": "5733d5db-0fa3-4802-8543-78541aed3b7e",
   "metadata": {},
   "source": [
    "Q8. What are the three view objects in dictionaries? Use the three in-built methods in python to display\n",
    "these three view objects for the given dictionary.\n",
    "dict1 = {'Sport': 'Cricket' , 'Teams': ['India', 'Australia', 'England', 'South Africa', 'Sri Lanka', 'New Zealand']}\n",
    "\n",
    "A8.\n",
    "\n",
    "Keys, Values and items are the 3 view objects in dictinaries"
   ]
  },
  {
   "cell_type": "code",
   "execution_count": 75,
   "id": "cc537119-b6d9-4eac-97c3-e4f0dc786013",
   "metadata": {},
   "outputs": [
    {
     "data": {
      "text/plain": [
       "dict_keys(['Sport', 'Teams'])"
      ]
     },
     "execution_count": 75,
     "metadata": {},
     "output_type": "execute_result"
    }
   ],
   "source": [
    "dict1 = {'Sport': 'Cricket' , 'Teams': ['India', 'Australia', 'England', 'South Africa', 'Sri Lanka', 'New Zealand']}\n",
    "\n",
    "dict1.keys()"
   ]
  },
  {
   "cell_type": "code",
   "execution_count": 76,
   "id": "18bb872c-a603-4612-bc4b-5092b469787e",
   "metadata": {},
   "outputs": [
    {
     "data": {
      "text/plain": [
       "dict_values(['Cricket', ['India', 'Australia', 'England', 'South Africa', 'Sri Lanka', 'New Zealand']])"
      ]
     },
     "execution_count": 76,
     "metadata": {},
     "output_type": "execute_result"
    }
   ],
   "source": [
    "dict1.values()"
   ]
  },
  {
   "cell_type": "code",
   "execution_count": 77,
   "id": "8023b86c-df62-41ab-8d7c-c406e3fddc6c",
   "metadata": {},
   "outputs": [
    {
     "data": {
      "text/plain": [
       "dict_items([('Sport', 'Cricket'), ('Teams', ['India', 'Australia', 'England', 'South Africa', 'Sri Lanka', 'New Zealand'])])"
      ]
     },
     "execution_count": 77,
     "metadata": {},
     "output_type": "execute_result"
    }
   ],
   "source": [
    "dict1.items()"
   ]
  },
  {
   "cell_type": "code",
   "execution_count": null,
   "id": "7f8b3d1c-ac9f-4db8-86dc-febfeb6138d0",
   "metadata": {},
   "outputs": [],
   "source": []
  }
 ],
 "metadata": {
  "kernelspec": {
   "display_name": "Python 3 (ipykernel)",
   "language": "python",
   "name": "python3"
  },
  "language_info": {
   "codemirror_mode": {
    "name": "ipython",
    "version": 3
   },
   "file_extension": ".py",
   "mimetype": "text/x-python",
   "name": "python",
   "nbconvert_exporter": "python",
   "pygments_lexer": "ipython3",
   "version": "3.10.8"
  }
 },
 "nbformat": 4,
 "nbformat_minor": 5
}
