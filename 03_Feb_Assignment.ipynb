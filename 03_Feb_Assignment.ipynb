{
 "cells": [
  {
   "cell_type": "markdown",
   "id": "34231654-1090-4aeb-a1f5-18efc7a1fbb8",
   "metadata": {},
   "source": [
    "Q1. Which keyword is used to create a function? Create a function to return a list of odd numbers in the\n",
    "range of 1 to 25.\n",
    "\n",
    "A1: def is the keyword to create a function"
   ]
  },
  {
   "cell_type": "code",
   "execution_count": 4,
   "id": "e296b330-25c4-452e-ae53-4c7568291840",
   "metadata": {},
   "outputs": [],
   "source": [
    "## a function to return a list of odd numbers in the range of 1 to 25.\n",
    "\n",
    "def odd_num(n):\n",
    "    b=[]\n",
    "    for i in range(1,n):\n",
    "        if i%2 != 0:\n",
    "            b.append(i)\n",
    "    return b"
   ]
  },
  {
   "cell_type": "code",
   "execution_count": 5,
   "id": "6c23a0d0-544e-4278-bac2-1481b4af2186",
   "metadata": {},
   "outputs": [
    {
     "data": {
      "text/plain": [
       "[1, 3, 5, 7, 9, 11, 13, 15, 17, 19, 21, 23]"
      ]
     },
     "execution_count": 5,
     "metadata": {},
     "output_type": "execute_result"
    }
   ],
   "source": [
    "odd_num(25)"
   ]
  },
  {
   "cell_type": "markdown",
   "id": "d36c79a3-0252-4d1e-a6cf-623dfa653075",
   "metadata": {},
   "source": [
    "Q2. Why *args and **kwargs is used in some functions? Create a function each for *args and **kwargs to\n",
    "demonstrate their use.\n",
    "\n",
    "A2.*args is used to pass n number of arguments to a function\n",
    "*kwargs is used to pass n number of key,value pairs as arguments to a function."
   ]
  },
  {
   "cell_type": "code",
   "execution_count": 8,
   "id": "30bdf0f5-c86d-47da-81af-5a963bf4459e",
   "metadata": {},
   "outputs": [],
   "source": [
    "##function each for *args and **kwargs to demonstrate their use.\n",
    "\n",
    "#use of *args\n",
    "\n",
    "def n_arg(*args):\n",
    "    j=0\n",
    "    for i in args:\n",
    "        j = j+i\n",
    "    return j"
   ]
  },
  {
   "cell_type": "code",
   "execution_count": 9,
   "id": "2662d1dd-d032-417c-8d5e-ce8ed2a449fe",
   "metadata": {},
   "outputs": [
    {
     "data": {
      "text/plain": [
       "15"
      ]
     },
     "execution_count": 9,
     "metadata": {},
     "output_type": "execute_result"
    }
   ],
   "source": [
    "n_arg(1,2,3,4,5)"
   ]
  },
  {
   "cell_type": "code",
   "execution_count": 10,
   "id": "91212888-125a-4d8c-b039-62ff063248a2",
   "metadata": {},
   "outputs": [
    {
     "data": {
      "text/plain": [
       "62"
      ]
     },
     "execution_count": 10,
     "metadata": {},
     "output_type": "execute_result"
    }
   ],
   "source": [
    "n_arg(1,2,3,4,5,6,7,8,9,8,9)"
   ]
  },
  {
   "cell_type": "code",
   "execution_count": 24,
   "id": "d7bd6dfc-936f-4e7b-bc9f-f1d8fccfa5eb",
   "metadata": {},
   "outputs": [],
   "source": [
    "## use of **kwargs\n",
    "\n",
    "def n_kwarg(**kwarg):\n",
    "    key,val=[],[]\n",
    "    for i in kwarg.keys():\n",
    "        key.append(i)\n",
    "        val.append(kwarg[i])\n",
    "    return key,val"
   ]
  },
  {
   "cell_type": "code",
   "execution_count": 25,
   "id": "d50389ef-34e2-4f3e-9e4e-09bdaa7caaa7",
   "metadata": {},
   "outputs": [
    {
     "data": {
      "text/plain": [
       "(['a', 'b', 'c', 'd', 'e'], [1, 2, 3, 1, 5])"
      ]
     },
     "execution_count": 25,
     "metadata": {},
     "output_type": "execute_result"
    }
   ],
   "source": [
    "n_kwarg(a=1,b=2,c=3,d=1,e=5)"
   ]
  },
  {
   "cell_type": "markdown",
   "id": "3674af49-1a4a-4a02-81be-6aded00d257d",
   "metadata": {},
   "source": [
    "Q3. What is an iterator in python? Name the method used to initialise the iterator object and the method\n",
    "used for iteration. Use these methods to print the first five elements of the given list [2, 4, 6, 8, 10, 12, 14, 16,\n",
    "18, 20].\n",
    "\n",
    "A3. Iterator is used to loop through collections in Python.\n",
    "\n",
    "__iter__() is used to initialise the object\n",
    "__next__() is used to iterate/operations on the object\n",
    "\n"
   ]
  },
  {
   "cell_type": "code",
   "execution_count": 3,
   "id": "01ef5cf0-b424-4fbb-be9e-3730d3d5d141",
   "metadata": {},
   "outputs": [
    {
     "name": "stdout",
     "output_type": "stream",
     "text": [
      "2\n",
      "4\n",
      "6\n",
      "8\n",
      "10\n"
     ]
    }
   ],
   "source": [
    "##methods to print the first five elements of the given list [2, 4, 6, 8, 10, 12, 14, 16, 18, 20].\n",
    "\n",
    "l1 = [2, 4, 6, 8, 10, 12, 14, 16, 18, 20]\n",
    "\n",
    "obj = iter(l1)\n",
    "for i in range(5):\n",
    "    print(next(obj))"
   ]
  },
  {
   "cell_type": "markdown",
   "id": "e4946984-2756-416f-bfd7-6e9f1f52831f",
   "metadata": {},
   "source": [
    "Q4. What is a generator function in python? Why yield keyword is used? Give an example of a generator\n",
    "function.\n",
    "\n",
    "A4. A generator function in python returns an iterator that produces a sequence of values when iterator over.\n",
    "yield keyword is used to produce value from generator."
   ]
  },
  {
   "cell_type": "code",
   "execution_count": 2,
   "id": "0ff7a23d-11de-4ddc-9d42-2b3786474561",
   "metadata": {},
   "outputs": [
    {
     "name": "stdout",
     "output_type": "stream",
     "text": [
      "0\n",
      "1\n",
      "2\n",
      "3\n",
      "4\n"
     ]
    }
   ],
   "source": [
    " ### example of a generator function\n",
    "def my_generator(n):\n",
    "    value=0\n",
    "    while value < n:\n",
    "        yield value\n",
    "        value +=1\n",
    "for value in my_generator(5):\n",
    "    print(value)"
   ]
  },
  {
   "cell_type": "markdown",
   "id": "b8bab8fd-8cba-4ea7-b4d4-eff91ac1b01d",
   "metadata": {},
   "source": [
    "Q5. Create a generator function for prime numbers less than 1000. Use the next() \n",
    "method to print thefirst 20 prime numbers."
   ]
  },
  {
   "cell_type": "code",
   "execution_count": 5,
   "id": "9b31d86a-6344-4bfd-b372-6f2b8d8f015d",
   "metadata": {},
   "outputs": [
    {
     "name": "stdout",
     "output_type": "stream",
     "text": [
      "2\n",
      "3\n",
      "5\n",
      "7\n",
      "11\n",
      "13\n",
      "17\n",
      "19\n",
      "23\n",
      "29\n",
      "31\n",
      "37\n",
      "41\n",
      "43\n",
      "47\n",
      "53\n",
      "59\n",
      "61\n",
      "67\n",
      "71\n"
     ]
    }
   ],
   "source": [
    "##3 A5.Generator function for prime numbers less than 1000\n",
    "\n",
    "from math import sqrt\n",
    "\n",
    "def is_prime(n):\n",
    "    if (n <= 1):\n",
    "        return False\n",
    "    if (n == 2):\n",
    "        return True\n",
    "    if (n % 2 == 0):\n",
    "        return False\n",
    "\n",
    "    i = 3\n",
    "    while i <= sqrt(n):\n",
    "        if n % i == 0:\n",
    "            return False\n",
    "        i = i + 2\n",
    "\n",
    "    return True\n",
    "\n",
    "\n",
    "generator = prime_generator()\n",
    "\n",
    "for i in range(20):\n",
    "    print(next(generator))\n"
   ]
  },
  {
   "cell_type": "code",
   "execution_count": null,
   "id": "b51b8b7a-aa49-458d-99d9-01349dc47b91",
   "metadata": {},
   "outputs": [],
   "source": []
  }
 ],
 "metadata": {
  "kernelspec": {
   "display_name": "Python 3 (ipykernel)",
   "language": "python",
   "name": "python3"
  },
  "language_info": {
   "codemirror_mode": {
    "name": "ipython",
    "version": 3
   },
   "file_extension": ".py",
   "mimetype": "text/x-python",
   "name": "python",
   "nbconvert_exporter": "python",
   "pygments_lexer": "ipython3",
   "version": "3.10.8"
  }
 },
 "nbformat": 4,
 "nbformat_minor": 5
}
